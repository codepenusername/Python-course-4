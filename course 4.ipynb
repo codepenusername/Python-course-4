{
  "cells": [
    {
      "cell_type": "markdown",
      "metadata": {
        "id": "6H5NCZG5uxZN"
      },
      "source": [
        "# **Full course python w3schools** \n",
        "[w3s](https://www.w3schools.com/python/default.asp)\n",
        "\n",
        "\n"
      ]
    },
    {
      "cell_type": "code",
      "execution_count": null,
      "metadata": {
        "id": "MH0_K8K9lz47"
      },
      "outputs": [],
      "source": [
        "x = \"Hello World\" \t#str \t\n",
        "x = 20 \t#int \t\n",
        "x = 20.5 \t#float \t\n",
        "x = 1j \t#complex \t\n",
        "x = [\"apple\", \"banana\", \"cherry\"] \t#list \t\n",
        "x = (\"apple\", \"banana\", \"cherry\") \t#tuple \t\n",
        "x = range(6) \t#range \t\n",
        "x = {\"name\" : \"John\", \"age\" : 36} \t#dict \t\n",
        "x = {\"apple\", \"banana\", \"cherry\"} \t#set \t\n",
        "x = frozenset({\"apple\", \"banana\", \"cherry\"}) \t#frozenset \t\n",
        "x = True \t#bool \t\n",
        "x = b\"Hello\" \t#bytes \t\n",
        "x = bytearray(5) \t#bytearray \t\n",
        "x = memoryview(bytes(5)) \t#memoryview"
      ]
    },
    {
      "cell_type": "code",
      "execution_count": null,
      "metadata": {
        "colab": {
          "base_uri": "https://localhost:8080/",
          "height": 69
        },
        "id": "sZdO3kjeqWYj",
        "outputId": "ad76364a-e017-4a16-bf8e-6e382251f7e1"
      },
      "outputs": [
        {
          "name": "stdout",
          "output_type": "stream",
          "text": [
            "<class 'int'>\n",
            "<class 'float'>\n",
            "<class 'complex'>\n"
          ]
        }
      ],
      "source": [
        "x = 1    # int\n",
        "y = 2.8  # float\n",
        "z = 1j   # complex\n",
        "print(type(x))\n",
        "print(type(y))\n",
        "print(type(z))"
      ]
    },
    {
      "cell_type": "markdown",
      "metadata": {
        "id": "Fm1YGXnjrPFf"
      },
      "source": [
        "## **int**\n",
        "Int, or integer, is a whole number, positive or negative, without decimals, of unlimited length."
      ]
    },
    {
      "cell_type": "code",
      "execution_count": null,
      "metadata": {
        "colab": {
          "base_uri": "https://localhost:8080/",
          "height": 69
        },
        "id": "jhcwXHypqnhO",
        "outputId": "3b84dcb8-04ba-4c65-fc0c-e89113f87b34"
      },
      "outputs": [
        {
          "name": "stdout",
          "output_type": "stream",
          "text": [
            "<class 'int'>\n",
            "<class 'int'>\n",
            "<class 'int'>\n"
          ]
        }
      ],
      "source": [
        "x = 1\n",
        "y = 35656222554887711\n",
        "z = -3255522\n",
        "\n",
        "print(type(x))\n",
        "print(type(y))\n",
        "print(type(z)) "
      ]
    },
    {
      "cell_type": "markdown",
      "metadata": {
        "id": "4LSrUQlBrkXj"
      },
      "source": [
        "# **Float**\n",
        "\n",
        "Float, or \"floating point number\" is a number, positive or negative, containing one or more decimals."
      ]
    },
    {
      "cell_type": "code",
      "execution_count": null,
      "metadata": {
        "colab": {
          "base_uri": "https://localhost:8080/",
          "height": 69
        },
        "id": "T80B8JdRrbhU",
        "outputId": "dbbf7487-b949-406a-f917-a9ff25fd6970"
      },
      "outputs": [
        {
          "name": "stdout",
          "output_type": "stream",
          "text": [
            "<class 'float'>\n",
            "<class 'float'>\n",
            "<class 'float'>\n"
          ]
        }
      ],
      "source": [
        "x = 1.10\n",
        "y = 1.0\n",
        "z = -35.59\n",
        "\n",
        "print(type(x))\n",
        "print(type(y))\n",
        "print(type(z)) "
      ]
    },
    {
      "cell_type": "markdown",
      "metadata": {
        "id": "4eLF1qtsr0Ph"
      },
      "source": [
        "Float can also be scientific numbers with an \"e\" to indicate the power of 10."
      ]
    },
    {
      "cell_type": "code",
      "execution_count": null,
      "metadata": {
        "colab": {
          "base_uri": "https://localhost:8080/",
          "height": 69
        },
        "id": "WuaXx-OJrtv4",
        "outputId": "083216d7-1bf3-434d-dd32-e9792f021534"
      },
      "outputs": [
        {
          "name": "stdout",
          "output_type": "stream",
          "text": [
            "<class 'float'>\n",
            "<class 'float'>\n",
            "<class 'float'>\n"
          ]
        }
      ],
      "source": [
        "x = 35e3\n",
        "y = 12E4\n",
        "z = -87.7e100\n",
        "\n",
        "print(type(x))\n",
        "print(type(y))\n",
        "print(type(z)) "
      ]
    },
    {
      "cell_type": "markdown",
      "metadata": {
        "id": "QA1G-AmSsHjI"
      },
      "source": [
        "# **Complex**\n",
        "\n",
        "Complex numbers are written with a \"j\" as the imaginary part:"
      ]
    },
    {
      "cell_type": "code",
      "execution_count": null,
      "metadata": {
        "colab": {
          "base_uri": "https://localhost:8080/",
          "height": 69
        },
        "id": "lvzk7kLPsI3r",
        "outputId": "91ca9617-b3f1-4a97-f3c1-29f3dd19bc88"
      },
      "outputs": [
        {
          "name": "stdout",
          "output_type": "stream",
          "text": [
            "<class 'complex'>\n",
            "<class 'complex'>\n",
            "<class 'complex'>\n"
          ]
        }
      ],
      "source": [
        "x = 3+5j\n",
        "y = 5j\n",
        "z = -5j\n",
        "\n",
        "print(type(x))\n",
        "print(type(y))\n",
        "print(type(z)) "
      ]
    },
    {
      "cell_type": "markdown",
      "metadata": {
        "id": "g5-NOmF2sloD"
      },
      "source": [
        "# **Type Conversion**\n",
        "\n",
        "You can convert from one type to another with the `int()`, `float(`), and `complex()` methods:"
      ]
    },
    {
      "cell_type": "code",
      "execution_count": null,
      "metadata": {
        "colab": {
          "base_uri": "https://localhost:8080/",
          "height": 121
        },
        "id": "e5txJHRVs23d",
        "outputId": "4cae06ab-4103-46b0-84f1-c0d58bcc51af"
      },
      "outputs": [
        {
          "name": "stdout",
          "output_type": "stream",
          "text": [
            "1.0\n",
            "2\n",
            "(1+0j)\n",
            "<class 'float'>\n",
            "<class 'int'>\n",
            "<class 'complex'>\n"
          ]
        }
      ],
      "source": [
        "x = 1 # int\n",
        "y = 2.8 # float\n",
        "z = 1j # complex\n",
        "\n",
        "#convert from int to float:\n",
        "a = float(x)\n",
        "\n",
        "#convert from float to int:\n",
        "b = int(y)\n",
        "\n",
        "#convert from int to complex:\n",
        "c = complex(x)\n",
        "\n",
        "print(a)\n",
        "print(b)\n",
        "print(c)\n",
        "\n",
        "print(type(a))\n",
        "print(type(b))\n",
        "print(type(c)) "
      ]
    },
    {
      "cell_type": "markdown",
      "metadata": {
        "id": "xBN6u2aOtCTy"
      },
      "source": [
        "\n",
        "# **Random Number**\n",
        "\n",
        "Python does not have a random() function to make a random number, but Python has a built-in module called random that can be used to make random numbers:"
      ]
    },
    {
      "cell_type": "code",
      "execution_count": null,
      "metadata": {
        "colab": {
          "base_uri": "https://localhost:8080/",
          "height": 34
        },
        "id": "06SLK7uJsMpt",
        "outputId": "c45142fb-4ec7-4b62-f1a0-7c730d5ecf26"
      },
      "outputs": [
        {
          "name": "stdout",
          "output_type": "stream",
          "text": [
            "6\n"
          ]
        }
      ],
      "source": [
        "import random\n",
        "\n",
        "print(random.randrange(1,10)) "
      ]
    },
    {
      "cell_type": "markdown",
      "metadata": {
        "id": "UVsvXCmjusWc"
      },
      "source": [
        "# **Strings are Arrays**\n",
        "\n",
        "Like many other popular programming languages, strings in Python are arrays of bytes representing unicode characters.\n",
        "\n",
        "However, Python does not have a character data type, a single character is simply a string with a length of 1.\n",
        "Square brackets can be used to access elements of the string.\n",
        "\n",
        "Casting in python is therefore done using constructor functions:\n",
        "\n",
        "- int() - constructs an integer number from an integer literal, a float literal (by rounding down to the previous whole number), or a string literal (providing the string represents a whole number)\n",
        "- float() - constructs a float number from an integer literal, a float literal or a string literal (providing the string represents a float or an integer)\n",
        "- str() - constructs a string from a wide variety of data types, including strings, integer literals and float literals\n"
      ]
    },
    {
      "cell_type": "code",
      "execution_count": null,
      "metadata": {
        "id": "2bxsTufItTLn"
      },
      "outputs": [],
      "source": [
        "x = int(1)   # x will be 1\n",
        "y = int(2.8) # y will be 2\n",
        "z = int(\"3\") # z will be 3"
      ]
    },
    {
      "cell_type": "code",
      "execution_count": null,
      "metadata": {
        "id": "jEvtNn9HxrOA"
      },
      "outputs": [],
      "source": [
        "x = float(1)     # x will be 1.0\n",
        "y = float(2.8)   # y will be 2.8\n",
        "z = float(\"3\")   # z will be 3.0\n",
        "w = float(\"4.2\") # w will be 4.2"
      ]
    },
    {
      "cell_type": "code",
      "execution_count": null,
      "metadata": {
        "id": "6TtDs9kkxyfZ"
      },
      "outputs": [],
      "source": [
        " x = str(\"s1\") # x will be 's1'\n",
        "y = str(2)    # y will be '2'\n",
        "z = str(3.0)  # z will be '3.0' "
      ]
    },
    {
      "cell_type": "markdown",
      "metadata": {
        "id": "ltuEr3QDx-Xp"
      },
      "source": [
        "# **String Literals**\n",
        "\n",
        "String literals in python are surrounded by either single quotation marks, or double quotation marks.\n",
        "\n",
        "'hello' is the same as \"hello\".\n",
        "\n",
        "You can display a string literal with the print() function:"
      ]
    },
    {
      "cell_type": "code",
      "execution_count": null,
      "metadata": {
        "colab": {
          "base_uri": "https://localhost:8080/",
          "height": 52
        },
        "id": "gAt_cDorx2o0",
        "outputId": "9a31ff2f-8d0d-4604-d0bf-92ea51272f82"
      },
      "outputs": [
        {
          "name": "stdout",
          "output_type": "stream",
          "text": [
            "Hello\n",
            "Hello\n"
          ]
        }
      ],
      "source": [
        "print(\"Hello\")\n",
        "print('Hello')"
      ]
    },
    {
      "cell_type": "markdown",
      "metadata": {
        "id": "_R8lJsHc3oaZ"
      },
      "source": [
        "# **Assign String to a Variable**\n",
        "\n",
        "Assigning a string to a variable is done with the variable name followed by an equal sign and the string:"
      ]
    },
    {
      "cell_type": "code",
      "execution_count": null,
      "metadata": {
        "colab": {
          "base_uri": "https://localhost:8080/",
          "height": 34
        },
        "id": "yyWbQFHz3aKI",
        "outputId": "6f5969ae-5768-4c12-f541-9862fc8b2175"
      },
      "outputs": [
        {
          "name": "stdout",
          "output_type": "stream",
          "text": [
            "Hello\n"
          ]
        }
      ],
      "source": [
        "a = \"Hello\"\n",
        "print(a) "
      ]
    },
    {
      "cell_type": "markdown",
      "metadata": {
        "id": "snccXoqf32pp"
      },
      "source": [
        "# **Multiline Strings**\n",
        "\n",
        "You can assign a multiline string to a variable by using three quotes:"
      ]
    },
    {
      "cell_type": "code",
      "execution_count": null,
      "metadata": {
        "colab": {
          "base_uri": "https://localhost:8080/",
          "height": 86
        },
        "id": "hX3W4yKo3zQ_",
        "outputId": "f9c821b3-2da3-4ef5-95a2-c99d17f06710"
      },
      "outputs": [
        {
          "name": "stdout",
          "output_type": "stream",
          "text": [
            "Lorem ipsum dolor sit amet,\n",
            "consectetur adipiscing elit,\n",
            "sed do eiusmod tempor incididunt\n",
            "ut labore et dolore magna aliqua.\n"
          ]
        }
      ],
      "source": [
        " a = \"\"\"Lorem ipsum dolor sit amet,\n",
        "consectetur adipiscing elit,\n",
        "sed do eiusmod tempor incididunt\n",
        "ut labore et dolore magna aliqua.\"\"\"\n",
        "print(a) "
      ]
    },
    {
      "cell_type": "markdown",
      "metadata": {
        "id": "tj4dIk2a4AcF"
      },
      "source": [
        "# **Strings are Arrays**\n",
        "\n",
        "Like many other popular programming languages, strings in Python are arrays of bytes representing unicode characters.\n",
        "\n",
        "However, Python does not have a character data type, a single character is simply a string with a length of 1.\n",
        "\n",
        "Square brackets can be used to access elements of the string."
      ]
    },
    {
      "cell_type": "code",
      "execution_count": null,
      "metadata": {
        "colab": {
          "base_uri": "https://localhost:8080/",
          "height": 34
        },
        "id": "huKFm-dh3560",
        "outputId": "eacfb005-6bd3-4425-f8db-4a3d78f3834d"
      },
      "outputs": [
        {
          "name": "stdout",
          "output_type": "stream",
          "text": [
            "e\n"
          ]
        }
      ],
      "source": [
        "a = \"Hello, World!\"\n",
        "print(a[1])"
      ]
    },
    {
      "cell_type": "markdown",
      "metadata": {
        "id": "1Y8elZ7_4IVH"
      },
      "source": [
        "# **Slicing**\n",
        "\n",
        "You can return a range of characters by using the slice syntax.\n",
        "\n",
        "Specify the start index and the end index, separated by a colon, to return a part of the string."
      ]
    },
    {
      "cell_type": "code",
      "execution_count": null,
      "metadata": {
        "colab": {
          "base_uri": "https://localhost:8080/",
          "height": 34
        },
        "id": "a-eTLtQ24FFw",
        "outputId": "246620a6-2ab4-4ae9-ea6f-3b6ce6eff64b"
      },
      "outputs": [
        {
          "name": "stdout",
          "output_type": "stream",
          "text": [
            "llo\n"
          ]
        }
      ],
      "source": [
        "b = \"Hello, World!\"\n",
        "print(b[2:5])"
      ]
    },
    {
      "cell_type": "markdown",
      "metadata": {
        "id": "8v2BCD4j41Vn"
      },
      "source": [
        "# **Negative Indexing**\n",
        "Use negative indexes to start the slice from the end of the string:\n"
      ]
    },
    {
      "cell_type": "code",
      "execution_count": null,
      "metadata": {
        "colab": {
          "base_uri": "https://localhost:8080/",
          "height": 34
        },
        "id": "rgOdq48c4L9w",
        "outputId": "9976b627-6bd3-455e-c183-05485ea1aaaa"
      },
      "outputs": [
        {
          "name": "stdout",
          "output_type": "stream",
          "text": [
            "orl\n"
          ]
        }
      ],
      "source": [
        "b = \"Hello, World!\"\n",
        "print(b[-5:-2])"
      ]
    },
    {
      "cell_type": "markdown",
      "metadata": {
        "id": "C34HEKO-5Atv"
      },
      "source": [
        "# **String Length**\n",
        "\n",
        "To get the length of a string, use the len() function"
      ]
    },
    {
      "cell_type": "code",
      "execution_count": null,
      "metadata": {
        "colab": {
          "base_uri": "https://localhost:8080/",
          "height": 34
        },
        "id": "k9GkibKt451b",
        "outputId": "8a00be42-c9d8-41c9-a3cf-5d31ac4779b4"
      },
      "outputs": [
        {
          "name": "stdout",
          "output_type": "stream",
          "text": [
            "13\n"
          ]
        }
      ],
      "source": [
        "a = \"Hello, World!\"\n",
        "print(len(a))"
      ]
    },
    {
      "cell_type": "markdown",
      "metadata": {
        "id": "RhhOcR415Iij"
      },
      "source": [
        "# **String Methods**\n",
        "\n",
        "Python has a set of built-in methods that you can use on strings."
      ]
    },
    {
      "cell_type": "code",
      "execution_count": null,
      "metadata": {
        "colab": {
          "base_uri": "https://localhost:8080/",
          "height": 34
        },
        "id": "M46pyrtf5Iaj",
        "outputId": "49613072-ee44-4b29-ed7d-c6d73d3ca225"
      },
      "outputs": [
        {
          "name": "stdout",
          "output_type": "stream",
          "text": [
            "Hello, World!\n"
          ]
        }
      ],
      "source": [
        "a = \" Hello, World! \"\n",
        "print(a.strip()) # returns \"Hello, World!\" "
      ]
    },
    {
      "cell_type": "markdown",
      "metadata": {
        "id": "h2ldydHj5gbK"
      },
      "source": [
        "## **Lower** (letras pequenas)"
      ]
    },
    {
      "cell_type": "code",
      "execution_count": null,
      "metadata": {
        "colab": {
          "base_uri": "https://localhost:8080/",
          "height": 34
        },
        "id": "DsWRFraI5Dsa",
        "outputId": "df1bb471-d9ec-455f-df86-389beb6eb83a"
      },
      "outputs": [
        {
          "name": "stdout",
          "output_type": "stream",
          "text": [
            "hello, world!\n"
          ]
        }
      ],
      "source": [
        "a = \"Hello, World!\"\n",
        "print(a.lower())"
      ]
    },
    {
      "cell_type": "markdown",
      "metadata": {
        "id": "4ABx1Lvo5rKQ"
      },
      "source": [
        "## **Upper** (letras maiores)"
      ]
    },
    {
      "cell_type": "code",
      "execution_count": null,
      "metadata": {
        "colab": {
          "base_uri": "https://localhost:8080/",
          "height": 34
        },
        "id": "X1MMk4us5mBe",
        "outputId": "a8e64c02-04f1-4ee3-d34d-5cdb97a32b76"
      },
      "outputs": [
        {
          "name": "stdout",
          "output_type": "stream",
          "text": [
            "HELLO, WORLD!\n"
          ]
        }
      ],
      "source": [
        "a = \"Hello, World!\"\n",
        "print(a.upper())"
      ]
    },
    {
      "cell_type": "markdown",
      "metadata": {
        "id": "GAyzYohR6gZ_"
      },
      "source": [
        "## **Split**"
      ]
    },
    {
      "cell_type": "markdown",
      "metadata": {
        "id": "eXV-t5YF6j5q"
      },
      "source": [
        "The split() method splits the string into substrings if it finds instances of the separator:"
      ]
    },
    {
      "cell_type": "code",
      "execution_count": null,
      "metadata": {
        "colab": {
          "base_uri": "https://localhost:8080/",
          "height": 34
        },
        "id": "ggLT5C6J6CpP",
        "outputId": "a0b4d7e6-c4de-4b5e-c5ad-26d1bc70ae62"
      },
      "outputs": [
        {
          "name": "stdout",
          "output_type": "stream",
          "text": [
            "['Hello', ' World!']\n"
          ]
        }
      ],
      "source": [
        "a = \"Hello, World!\"\n",
        "print(a.split(\",\")) # returns ['Hello', ' World!'] "
      ]
    },
    {
      "cell_type": "markdown",
      "metadata": {
        "id": "ykjUgdwY6s0D"
      },
      "source": [
        "# **Check String**\n",
        "\n",
        "To check if a certain phrase or character is present in a string, we can use the keywords `in` or `not in`."
      ]
    },
    {
      "cell_type": "markdown",
      "metadata": {
        "id": "xGPuAEu_65jT"
      },
      "source": [
        "Check if the phrase \"ain\" is present in the following text:"
      ]
    },
    {
      "cell_type": "code",
      "execution_count": null,
      "metadata": {
        "colab": {
          "base_uri": "https://localhost:8080/",
          "height": 34
        },
        "id": "wnH5kfTH6mBK",
        "outputId": "727efe4a-df77-4dea-8d72-4078e1fa938d"
      },
      "outputs": [
        {
          "name": "stdout",
          "output_type": "stream",
          "text": [
            "True\n"
          ]
        }
      ],
      "source": [
        " txt = \"The rain in Spain stays mainly in the plain\"\n",
        "x = \"ain\" in txt\n",
        "print(x)"
      ]
    },
    {
      "cell_type": "markdown",
      "metadata": {
        "id": "M5wh0__L6_o_"
      },
      "source": [
        "Check if the phrase \"ain\" is NOT present in the following text:"
      ]
    },
    {
      "cell_type": "code",
      "execution_count": null,
      "metadata": {
        "colab": {
          "base_uri": "https://localhost:8080/",
          "height": 34
        },
        "id": "xgcs6YjZ67YY",
        "outputId": "4412e02b-78b8-4912-fc1d-d971ac38879b"
      },
      "outputs": [
        {
          "name": "stdout",
          "output_type": "stream",
          "text": [
            "False\n"
          ]
        }
      ],
      "source": [
        "txt = \"The rain in Spain stays mainly in the plain\"\n",
        "x = \"ain\" not in txt\n",
        "print(x)  "
      ]
    },
    {
      "cell_type": "markdown",
      "metadata": {
        "id": "5ypYDF8W7Dqg"
      },
      "source": [
        "# **String Concatenation**\n",
        "\n",
        "To concatenate, or combine, two strings you can use the + operator."
      ]
    },
    {
      "cell_type": "code",
      "execution_count": null,
      "metadata": {
        "colab": {
          "base_uri": "https://localhost:8080/",
          "height": 34
        },
        "id": "SWaAmij27BOI",
        "outputId": "610d9c39-3374-4453-97b5-b8dec06fb5f7"
      },
      "outputs": [
        {
          "name": "stdout",
          "output_type": "stream",
          "text": [
            "HelloWorld\n"
          ]
        }
      ],
      "source": [
        "a = \"Hello\"\n",
        "b = \"World\"\n",
        "c = a + b\n",
        "print(c)"
      ]
    },
    {
      "cell_type": "code",
      "execution_count": null,
      "metadata": {
        "colab": {
          "base_uri": "https://localhost:8080/",
          "height": 34
        },
        "id": "Ts6mhXz97GaQ",
        "outputId": "f52f443e-ff52-488d-83eb-cdd6fa83da07"
      },
      "outputs": [
        {
          "name": "stdout",
          "output_type": "stream",
          "text": [
            "Hello World\n"
          ]
        }
      ],
      "source": [
        "a = \"Hello\"\n",
        "b = \"World\"\n",
        "c = a + \" \" + b\n",
        "print(c)"
      ]
    },
    {
      "cell_type": "markdown",
      "metadata": {
        "id": "qx-gbt5x7K0V"
      },
      "source": [
        "# **String Format**\n",
        "\n",
        "As we learned in the Python Variables chapter, we cannot combine strings and numbers like this:"
      ]
    },
    {
      "cell_type": "code",
      "execution_count": null,
      "metadata": {
        "colab": {
          "base_uri": "https://localhost:8080/",
          "height": 200
        },
        "id": "feMsDWM37IU8",
        "outputId": "5ac72366-e296-43f6-b937-a1826e41acf4"
      },
      "outputs": [
        {
          "ename": "TypeError",
          "evalue": "ignored",
          "output_type": "error",
          "traceback": [
            "\u001b[0;31m---------------------------------------------------------------------------\u001b[0m",
            "\u001b[0;31mTypeError\u001b[0m                                 Traceback (most recent call last)",
            "\u001b[0;32m<ipython-input-30-02e1a1486f44>\u001b[0m in \u001b[0;36m<module>\u001b[0;34m()\u001b[0m\n\u001b[1;32m      1\u001b[0m \u001b[0mage\u001b[0m \u001b[0;34m=\u001b[0m \u001b[0;36m36\u001b[0m\u001b[0;34m\u001b[0m\u001b[0;34m\u001b[0m\u001b[0m\n\u001b[0;32m----> 2\u001b[0;31m \u001b[0mtxt\u001b[0m \u001b[0;34m=\u001b[0m \u001b[0;34m\"My name is John, I am \"\u001b[0m \u001b[0;34m+\u001b[0m \u001b[0;34m(\u001b[0m\u001b[0mage\u001b[0m\u001b[0;34m)\u001b[0m\u001b[0;34m\u001b[0m\u001b[0;34m\u001b[0m\u001b[0m\n\u001b[0m\u001b[1;32m      3\u001b[0m \u001b[0mprint\u001b[0m\u001b[0;34m(\u001b[0m\u001b[0mtxt\u001b[0m\u001b[0;34m)\u001b[0m\u001b[0;34m\u001b[0m\u001b[0;34m\u001b[0m\u001b[0m\n",
            "\u001b[0;31mTypeError\u001b[0m: must be str, not int"
          ]
        }
      ],
      "source": [
        "age = 36\n",
        "txt = \"My name is John, I am \" + (age)\n",
        "print(txt)"
      ]
    },
    {
      "cell_type": "markdown",
      "metadata": {
        "id": "0mjKZ1GI7qii"
      },
      "source": [
        "But we can combine strings and numbers by using the `format()` method!\n",
        "\n",
        "The `format()` method takes the passed arguments, formats them, and places them in the string where the placeholders `{}` are:"
      ]
    },
    {
      "cell_type": "code",
      "execution_count": null,
      "metadata": {
        "colab": {
          "base_uri": "https://localhost:8080/",
          "height": 34
        },
        "id": "THvqwf7u7OWA",
        "outputId": "a5fc64b7-101b-41e7-bec7-16fc34c956d5"
      },
      "outputs": [
        {
          "name": "stdout",
          "output_type": "stream",
          "text": [
            "My name is John, and I am 36\n"
          ]
        }
      ],
      "source": [
        "age = 36\n",
        "txt = \"My name is John, and I am {}\"\n",
        "print(txt.format(age))"
      ]
    },
    {
      "cell_type": "markdown",
      "metadata": {
        "id": "jIVOgb0t70n3"
      },
      "source": [
        "The format() method takes unlimited number of arguments, and are placed into the respective placeholders:"
      ]
    },
    {
      "cell_type": "code",
      "execution_count": null,
      "metadata": {
        "colab": {
          "base_uri": "https://localhost:8080/",
          "height": 34
        },
        "id": "3j9OxikY7x8D",
        "outputId": "b0d84003-b51d-4bbd-9d45-040f22f9a71c"
      },
      "outputs": [
        {
          "name": "stdout",
          "output_type": "stream",
          "text": [
            "I want 3 pieces of item 567 for 49.95 dollars.\n"
          ]
        }
      ],
      "source": [
        "quantity = 3\n",
        "itemno = 567\n",
        "price = 49.95\n",
        "myorder = \"I want {} pieces of item {} for {} dollars.\"\n",
        "print(myorder.format(quantity, itemno, price))"
      ]
    },
    {
      "cell_type": "markdown",
      "metadata": {
        "id": "oqZY2wyJ7_pd"
      },
      "source": [
        "You can use index numbers `{0}` to be sure the arguments are placed in the correct placeholders:"
      ]
    },
    {
      "cell_type": "code",
      "execution_count": null,
      "metadata": {
        "colab": {
          "base_uri": "https://localhost:8080/",
          "height": 34
        },
        "id": "4FwEzZco72n8",
        "outputId": "551b5de7-74a0-4d99-ec1a-1031ed2a1bf9"
      },
      "outputs": [
        {
          "name": "stdout",
          "output_type": "stream",
          "text": [
            "I want to pay 49.95 dollars for 3 pieces of item 567.\n"
          ]
        }
      ],
      "source": [
        "quantity = 3\n",
        "itemno = 567\n",
        "price = 49.95\n",
        "myorder = \"I want to pay {2} dollars for {0} pieces of item {1}.\"\n",
        "print(myorder.format(quantity, itemno, price))"
      ]
    },
    {
      "cell_type": "markdown",
      "metadata": {
        "id": "XoNbCWLO8Mwd"
      },
      "source": [
        "# **Escape Character**\n",
        "\n",
        "To insert characters that are illegal in a string, use an escape character.\n",
        "\n",
        "An escape character is a backslash `\\` followed by the character you want to insert.\n",
        "\n",
        "An example of an illegal character is a double quote inside a string that is surrounded by double quotes:"
      ]
    },
    {
      "cell_type": "markdown",
      "metadata": {
        "id": "D1sNd-JA8TuP"
      },
      "source": [
        "**Example**\n",
        "\n",
        "You will get an error if you use double quotes inside a string that is surrounded by double quotes:"
      ]
    },
    {
      "cell_type": "code",
      "execution_count": null,
      "metadata": {
        "colab": {
          "base_uri": "https://localhost:8080/",
          "height": 130
        },
        "id": "4y9YVpdB8FCP",
        "outputId": "3222390a-05fb-4c5b-adf3-314174546a7d"
      },
      "outputs": [
        {
          "ename": "SyntaxError",
          "evalue": "ignored",
          "output_type": "error",
          "traceback": [
            "\u001b[0;36m  File \u001b[0;32m\"<ipython-input-34-56cdf4283a8e>\"\u001b[0;36m, line \u001b[0;32m1\u001b[0m\n\u001b[0;31m    txt = \"We are the so-called \"Vikings\" from the north.\"\u001b[0m\n\u001b[0m                                       ^\u001b[0m\n\u001b[0;31mSyntaxError\u001b[0m\u001b[0;31m:\u001b[0m invalid syntax\n"
          ]
        }
      ],
      "source": [
        "txt = \"We are the so-called \"Vikings\" from the north.\""
      ]
    },
    {
      "cell_type": "markdown",
      "metadata": {
        "id": "kkBxabV48arR"
      },
      "source": [
        "To fix this problem, use the escape character `\\\"`:"
      ]
    },
    {
      "cell_type": "code",
      "execution_count": null,
      "metadata": {
        "id": "wAmTnrwY8WE7"
      },
      "outputs": [],
      "source": [
        "txt = \"We are the so-called \\\"Vikings\\\" from the north.\""
      ]
    },
    {
      "cell_type": "markdown",
      "metadata": {
        "id": "jLLj045q8jRK"
      },
      "source": [
        "Other escape characters used in *Python*:"
      ]
    },
    {
      "cell_type": "markdown",
      "metadata": {
        "id": "nE19Fu9W8w8I"
      },
      "source": [
        "```\n",
        "Code \t  Result \t        \n",
        "\\' \t    Single Quote \t\n",
        "\\\\ \t    Backslash \t\n",
        "\\n \t    New Line \t\n",
        "\\r \t    Carriage Return \t\n",
        "\\t \t    Tab \t\n",
        "\\b \t    Backspace \t\n",
        "\\f \t    Form Feed \t\n",
        "\\ooo \t  Octal value \t\n",
        "\\xhh \t  Hex value\n",
        "```"
      ]
    },
    {
      "cell_type": "markdown",
      "metadata": {
        "id": "9zOW33Hk-Vau"
      },
      "source": [
        "# **String Methods**\n",
        "\n",
        "Python has a set of built-in methods that you can use on strings."
      ]
    },
    {
      "cell_type": "markdown",
      "metadata": {
        "id": "dg9X2bMx-ce5"
      },
      "source": [
        "```\n",
        "Method \t      Description\n",
        "capitalize()\tConverts the first character to upper case\n",
        "casefold()\t  Converts string into lower case\n",
        "center()\t    Returns a centered string\n",
        "count()\t     Returns the number of times a specified value occurs in a string\n",
        "encode()\t    Returns an encoded version of the string\n",
        "endswith()\t  Returns true if the string ends with the specified value\n",
        "expandtabs()\tSets the tab size of the string\n",
        "find()\t      Searches the string for a specified value and returns the position of where it was found\n",
        "format()\t    Formats specified values in a string\n",
        "format_map()\tFormats specified values in a string\n",
        "index()\t     Searches the string for a specified value and returns the position of where it was found\n",
        "isalnum()\t   Returns True if all characters in the string are alphanumeric\n",
        "isalpha()\t   Returns True if all characters in the string are in the alphabet\n",
        "isdecimal()\t Returns True if all characters in the string are decimals\n",
        "isdigit()\t   Returns True if all characters in the string are digits\n",
        "isidentifier()  Returns True if the string is an identifier\n",
        "islower()\t   Returns True if all characters in the string are lower case\n",
        "isnumeric()\t Returns True if all characters in the string are numeric\n",
        "isprintable()   Returns True if all characters in the string are printable\n",
        "isspace()\t   Returns True if all characters in the string are whitespaces\n",
        "istitle() \t  Returns True if the string follows the rules of a title\n",
        "isupper()\t   Returns True if all characters in the string are upper case\n",
        "join()\t      Joins the elements of an iterable to the end of the string\n",
        "ljust()\t     Returns a left justified version of the string\n",
        "lower()\t     Converts a string into lower case\n",
        "lstrip()\t    Returns a left trim version of the string\n",
        "maketrans()\t Returns a translation table to be used in translations\n",
        "partition()\t Returns a tuple where the string is parted into three parts\n",
        "replace()\t   Returns a string where a specified value is replaced with a specified value\n",
        "rfind()\t     Searches the string for a specified value and returns the last position of where it was found\n",
        "rindex()\t    Searches the string for a specified value and returns the last position of where it was found\n",
        "rjust()\t     Returns a right justified version of the string\n",
        "rpartition()\tReturns a tuple where the string is parted into three parts\n",
        "rsplit()\t    Splits the string at the specified separator, and returns a list\n",
        "rstrip()\t    Returns a right trim version of the string\n",
        "split()\t     Splits the string at the specified separator, and returns a list\n",
        "splitlines()\tSplits the string at line breaks and returns a list\n",
        "startswith()\tReturns true if the string starts with the specified value\n",
        "strip()\t     Returns a trimmed version of the string\n",
        "swapcase()\t  Swaps cases, lower case becomes upper case and vice versa\n",
        "title()\t     Converts the first character of each word to upper case\n",
        "translate()\t Returns a translated string\n",
        "upper()\t     Converts a string into upper case\n",
        "zfill()     \tFills the string with a specified number of 0 values at the beginning\n",
        "\n",
        "```\n",
        "\n"
      ]
    },
    {
      "cell_type": "markdown",
      "metadata": {
        "id": "wGnJ3qvC_uPa"
      },
      "source": [
        "# **Boolean Values**\n",
        "\n",
        "In programming you often need to know if an expression is True or False.\n",
        "\n",
        "You can evaluate any expression in Python, and get one of two answers, True or False.\n",
        "\n",
        "When you compare two values, the expression is evaluated and Python returns the Boolean answer:"
      ]
    },
    {
      "cell_type": "code",
      "execution_count": null,
      "metadata": {
        "colab": {
          "base_uri": "https://localhost:8080/",
          "height": 69
        },
        "id": "1xcz6TQF8z0y",
        "outputId": "b9ad27ef-93f5-4355-9ce8-e274625b94a2"
      },
      "outputs": [
        {
          "name": "stdout",
          "output_type": "stream",
          "text": [
            "True\n",
            "False\n",
            "False\n"
          ]
        }
      ],
      "source": [
        "print(10 > 9)\n",
        "print(10 == 9)\n",
        "print(10 < 9)"
      ]
    },
    {
      "cell_type": "markdown",
      "metadata": {
        "id": "HgeX0Wwo_4sw"
      },
      "source": [
        "When you run a condition in an if statement, Python returns True or False:"
      ]
    },
    {
      "cell_type": "code",
      "execution_count": null,
      "metadata": {
        "colab": {
          "base_uri": "https://localhost:8080/",
          "height": 34
        },
        "id": "l3iXGg1q_0XG",
        "outputId": "906ad5d7-a542-4e77-ad68-98d784f14fa6"
      },
      "outputs": [
        {
          "name": "stdout",
          "output_type": "stream",
          "text": [
            "b is not greater than a\n"
          ]
        }
      ],
      "source": [
        "a = 200\n",
        "b = 33\n",
        "\n",
        "if b > a:\n",
        "  print(\"b is greater than a\")\n",
        "else:\n",
        "  print(\"b is not greater than a\") "
      ]
    },
    {
      "cell_type": "markdown",
      "metadata": {
        "id": "bDeXvHdKALxx"
      },
      "source": [
        "# **Evaluate Values and Variables**\n",
        "\n",
        "The `bool()` function allows you to evaluate any value, and give you `True `or `False` in return"
      ]
    },
    {
      "cell_type": "code",
      "execution_count": null,
      "metadata": {
        "colab": {
          "base_uri": "https://localhost:8080/",
          "height": 52
        },
        "id": "mqed8WVvAD9k",
        "outputId": "0af7bc83-4413-46b4-b54b-49378dc48c59"
      },
      "outputs": [
        {
          "name": "stdout",
          "output_type": "stream",
          "text": [
            "True\n",
            "True\n"
          ]
        }
      ],
      "source": [
        "print(bool(\"Hello\"))\n",
        "print(bool(15))"
      ]
    },
    {
      "cell_type": "code",
      "execution_count": null,
      "metadata": {
        "colab": {
          "base_uri": "https://localhost:8080/",
          "height": 52
        },
        "id": "BmszmdiqAgK5",
        "outputId": "1f7f0886-01fb-4961-c303-6995314fcdaa"
      },
      "outputs": [
        {
          "name": "stdout",
          "output_type": "stream",
          "text": [
            "True\n",
            "True\n"
          ]
        }
      ],
      "source": [
        "x = \"Hello\"\n",
        "y = 15\n",
        "\n",
        "print(bool(x))\n",
        "print(bool(y))"
      ]
    },
    {
      "cell_type": "markdown",
      "metadata": {
        "id": "6Ma7bD4KBWeJ"
      },
      "source": [
        "# **Most Values are True**\n",
        "\n",
        "Almost any value is evaluated to True if it has some sort of content.\n",
        "\n",
        "Any string is True, except empty strings.\n",
        "\n",
        "Any number is True, except 0.\n",
        "\n",
        "Any list, tuple, set, and dictionary are True, except empty ones."
      ]
    },
    {
      "cell_type": "code",
      "execution_count": null,
      "metadata": {
        "colab": {
          "base_uri": "https://localhost:8080/",
          "height": 34
        },
        "id": "LDtEjBhvBJFm",
        "outputId": "2d6b4f11-61b2-4616-e547-c89b8b18fde6"
      },
      "outputs": [
        {
          "data": {
            "text/plain": [
              "True"
            ]
          },
          "execution_count": 40,
          "metadata": {
            "tags": []
          },
          "output_type": "execute_result"
        }
      ],
      "source": [
        "bool(\"abc\")\n",
        "bool(123)\n",
        "bool([\"apple\", \"cherry\", \"banana\"])"
      ]
    },
    {
      "cell_type": "markdown",
      "metadata": {
        "id": "c8IFA20OBfdQ"
      },
      "source": [
        "## **Some Values are False**\n",
        "\n",
        "In fact, there are not many values that evaluates to `False`, except empty values, such as `(), [], {}, \"\"`, the number 0, and the value `None`. And of course the value `False` evaluates to `False`."
      ]
    },
    {
      "cell_type": "code",
      "execution_count": null,
      "metadata": {
        "colab": {
          "base_uri": "https://localhost:8080/",
          "height": 34
        },
        "id": "647_3ji4BdFW",
        "outputId": "dc2aada6-9f31-4591-ec40-75807f477d8b"
      },
      "outputs": [
        {
          "data": {
            "text/plain": [
              "False"
            ]
          },
          "execution_count": 41,
          "metadata": {
            "tags": []
          },
          "output_type": "execute_result"
        }
      ],
      "source": [
        "bool(False)\n",
        "bool(None)\n",
        "bool(0)\n",
        "bool(\"\")\n",
        "bool(())\n",
        "bool([])\n",
        "bool({}) "
      ]
    },
    {
      "cell_type": "markdown",
      "metadata": {
        "id": "UYiAh4bDBxxA"
      },
      "source": [
        "One more value, or object in this case, evaluates to `False`, and that is if you have an objects that are made from a class with a `__len__` function that returns `0` or `False`: "
      ]
    },
    {
      "cell_type": "code",
      "execution_count": null,
      "metadata": {
        "colab": {
          "base_uri": "https://localhost:8080/",
          "height": 34
        },
        "id": "sbF_tecrBu69",
        "outputId": "2353b300-a8d7-4053-cf02-6dbae672c945"
      },
      "outputs": [
        {
          "name": "stdout",
          "output_type": "stream",
          "text": [
            "False\n"
          ]
        }
      ],
      "source": [
        "class myclass():\n",
        "  def __len__(self):\n",
        "    return 0\n",
        "\n",
        "myobj = myclass()\n",
        "print(bool(myobj)) "
      ]
    },
    {
      "cell_type": "markdown",
      "metadata": {
        "id": "NUfo2EErCKZ9"
      },
      "source": [
        "## **Functions can Return a Boolean**\n",
        "\n",
        "Python also has many built-in functions that returns a boolean value, like the `isinstance()` function, which can be used to determine if an object is of a certain data type:"
      ]
    },
    {
      "cell_type": "code",
      "execution_count": null,
      "metadata": {
        "colab": {
          "base_uri": "https://localhost:8080/",
          "height": 34
        },
        "id": "tJ5JW3CuB8Ii",
        "outputId": "cb8d4512-b86c-43ac-a1f9-e9706f5b9ce7"
      },
      "outputs": [
        {
          "name": "stdout",
          "output_type": "stream",
          "text": [
            "True\n"
          ]
        }
      ],
      "source": [
        "x = 200\n",
        "print(isinstance(x, int)) "
      ]
    },
    {
      "cell_type": "markdown",
      "metadata": {
        "id": "I6VTypC2CeIg"
      },
      "source": [
        "## **Python Operators**\n",
        "\n",
        "Operators are used to perform operations on variables and values.\n",
        "\n",
        "Python divides the operators in the following groups:\n",
        "\n",
        "  - Arithmetic operators\n",
        "  - Assignment operators\n",
        "  - Comparison operators\n",
        "  - Logical operators\n",
        "  - Identity operators\n",
        "  - Membership operators\n",
        "  - Bitwise operators\n"
      ]
    },
    {
      "cell_type": "markdown",
      "metadata": {
        "id": "O-BL_oj4CsqH"
      },
      "source": [
        "## **Python Arithmetic Operators**\n",
        "\n",
        "Arithmetic operators are used with numeric values to perform common mathematical operations:"
      ]
    },
    {
      "cell_type": "code",
      "execution_count": null,
      "metadata": {
        "id": "iHzKFblqDHSN"
      },
      "outputs": [],
      "source": [
        "Operator \tName \t                Example \t \n",
        "+ \t      Addition \t            x + y \t\n",
        "- \t      Subtraction \t        x - y \t\n",
        "* \t      Multiplication \t      x * y \t\n",
        "/ \t      Division \t            x / y \t\n",
        "% \t      Modulus \t            x % y \t\n",
        "** \t      Exponentiation \t      x ** y \t\n",
        "// \t      Floor division \t      x // y"
      ]
    },
    {
      "cell_type": "code",
      "execution_count": null,
      "metadata": {
        "id": "PMjDxrSeDORv"
      },
      "outputs": [],
      "source": [
        "Operator \tExample \tSame As \tTry it\n",
        "= \t      x = 5 \t  x = 5 \t\n",
        "+= \t      x += 3 \t  x = x + 3 \t\n",
        "-= \t      x -= 3 \t  x = x - 3 \t\n",
        "*= \t      x *= 3 \t  x = x * 3 \t\n",
        "/= \t      x /= 3 \t  x = x / 3 \t\n",
        "%= \t      x %= 3 \t  x = x % 3 \t\n",
        "//= \t    x //= 3 \tx = x // 3 \t\n",
        "**= \t    x **= 3 \tx = x ** 3 \t\n",
        "&= \t      x &= 3  \tx = x & 3 \t\n",
        "|= \t      x |= 3 \t  x = x | 3 \t\n",
        "^= \t      x ^= 3  \tx = x ^ 3 \t\n",
        ">>= \t    x >>= 3 \tx = x >> 3 \t\n",
        "<<= \t    x <<= 3 \tx = x << 3"
      ]
    },
    {
      "cell_type": "markdown",
      "metadata": {
        "id": "Rle2vUMeDaRr"
      },
      "source": [
        "## **Python Comparison Operators**\n",
        "\n",
        "Comparison operators are used to compare two values:"
      ]
    },
    {
      "cell_type": "code",
      "execution_count": null,
      "metadata": {
        "id": "F2YNpIWgDfHb"
      },
      "outputs": [],
      "source": [
        "Operator \tName \t                        Example \t\n",
        "== \t      Equal \t                      x == y \t\n",
        "!= \t      Not equal \t                  x != y \t\n",
        "> \t      Greater than        \t        x > y \t\n",
        "< \t      Less than \t                  x < y \t\n",
        ">= \t      Greater than or equal to \t    x >= y \t\n",
        "<= \t      Less than or equal to         x <= y"
      ]
    },
    {
      "cell_type": "markdown",
      "metadata": {
        "id": "qoyy9HirDvzN"
      },
      "source": [
        "## **Python Logical Operators**\n",
        "\n",
        "Logical operators are used to combine conditional statements:"
      ]
    },
    {
      "cell_type": "code",
      "execution_count": null,
      "metadata": {
        "id": "iy1_UVC0D1T4"
      },
      "outputs": [],
      "source": [
        "Operator \tDescription \t                                              Example \t\n",
        "and  \t    Returns True if both statements are true \t                  x < 5 and  x < 10 \t\n",
        "or \t      Returns True if one of the statements is true \t            x < 5 or x < 4 \t\n",
        "not \t    Reverse the result, returns False if the result is true     not(x < 5 and x < 10)"
      ]
    },
    {
      "cell_type": "markdown",
      "metadata": {
        "id": "4Pyk3bgTEET_"
      },
      "source": [
        "# **Python Identity Operators**\n",
        "\n",
        "Identity operators are used to compare the objects, not if they are equal, but if they are actually the same object, with the same memory location:"
      ]
    },
    {
      "cell_type": "code",
      "execution_count": null,
      "metadata": {
        "id": "52UA2q1gEJkG"
      },
      "outputs": [],
      "source": [
        "Operator \t    Description \t                                            Example \n",
        "is  \t        Returns true if both variables are the same object \t      x is y \t\n",
        "is not \t      Returns true if both variables are not the same object \t  x is not y"
      ]
    },
    {
      "cell_type": "markdown",
      "metadata": {
        "id": "93moryU8EWxi"
      },
      "source": [
        "# **Python Membership Operators**\n",
        "\n",
        "Membership operators are used to test if a sequence is presented in an object:"
      ]
    },
    {
      "cell_type": "code",
      "execution_count": null,
      "metadata": {
        "id": "vt2PrXl4ESpZ"
      },
      "outputs": [],
      "source": [
        "Operator \t    Description \t                                                                      Example \t\n",
        "in  \t        Returns True if a sequence with the specified value is present in the object \t      x in y \t\n",
        "not in \t      Returns True if a sequence with the specified value is not present in the object \t  x not in y"
      ]
    },
    {
      "cell_type": "markdown",
      "metadata": {
        "id": "fZq74C10E0se"
      },
      "source": [
        "# **Python Bitwise Operators**\n",
        "\n",
        "Bitwise operators are used to compare (binary) numbers:"
      ]
    },
    {
      "cell_type": "code",
      "execution_count": null,
      "metadata": {
        "id": "XhdXflbLE46D"
      },
      "outputs": [],
      "source": [
        "Operator \tName \t                          Description\n",
        "&  \t      AND \t                          Sets each bit to 1 if both bits are 1\n",
        "| \t      OR \t                            Sets each bit to 1 if one of two bits is 1\n",
        " ^ \t      XOR \t                          Sets each bit to 1 if only one of two bits is 1\n",
        "~  \t      NOT \t                          Inverts all the bits\n",
        "<< \t      Zero fill left shift \t          Shift left by pushing zeros in from the right and let the leftmost bits fall off\n",
        ">> \t      Signed right shift \t            Shift right by pushing copies of the leftmost bit in from the left, and let the rightmost bits fall off"
      ]
    },
    {
      "cell_type": "markdown",
      "metadata": {
        "id": "xfNFSlZzFzsj"
      },
      "source": [
        "## **Python Collections (Arrays)**\n",
        "\n",
        "There are four collection data types in the Python programming language:\n",
        "\n",
        "- List is a collection which is ordered and changeable. Allows duplicate members.\n",
        "- Tuple is a collection which is ordered and unchangeable. Allows duplicate members.\n",
        "- Set is a collection which is unordered and unindexed. No duplicate members.\n",
        "- Dictionary is a collection which is unordered, changeable and indexed. No duplicate members.\n",
        "\n",
        "When choosing a collection type, it is useful to understand the properties of that type. Choosing the right type for a particular data set could mean retention of meaning, and, it could mean an increase in efficiency or security.\n",
        "\n",
        "# **List**\n",
        "\n",
        "A list is a collection which is ordered and changeable. In Python lists are written with square brackets."
      ]
    },
    {
      "cell_type": "code",
      "execution_count": null,
      "metadata": {
        "colab": {
          "base_uri": "https://localhost:8080/",
          "height": 34
        },
        "id": "Y1Mmx8n6F6Xd",
        "outputId": "b61c3075-b3ef-4e26-f00e-381ac3b84034"
      },
      "outputs": [
        {
          "name": "stdout",
          "output_type": "stream",
          "text": [
            "['apple', 'banana', 'cherry']\n"
          ]
        }
      ],
      "source": [
        "thislist = [\"apple\", \"banana\", \"cherry\"]\n",
        "print(thislist)"
      ]
    },
    {
      "cell_type": "markdown",
      "metadata": {
        "id": "fuMCTh3sGEPG"
      },
      "source": [
        "## **Access Items**\n",
        "\n",
        "You access the list items by referring to the index number:"
      ]
    },
    {
      "cell_type": "code",
      "execution_count": null,
      "metadata": {
        "colab": {
          "base_uri": "https://localhost:8080/",
          "height": 34
        },
        "id": "etww4q3BGBjS",
        "outputId": "f2c56540-7c63-45d7-c278-a658bec304da"
      },
      "outputs": [
        {
          "name": "stdout",
          "output_type": "stream",
          "text": [
            "banana\n"
          ]
        }
      ],
      "source": [
        "thislist = [\"apple\", \"banana\", \"cherry\"]\n",
        "print(thislist[1])"
      ]
    },
    {
      "cell_type": "markdown",
      "metadata": {
        "id": "Jjv0l9oTGJv8"
      },
      "source": [
        "## **Negative Indexing**\n",
        "\n",
        "Negative indexing means beginning from the end, -1 refers to the last item, -2 refers to the second last item etc."
      ]
    },
    {
      "cell_type": "code",
      "execution_count": null,
      "metadata": {
        "colab": {
          "base_uri": "https://localhost:8080/",
          "height": 34
        },
        "id": "onj6AKODGH5V",
        "outputId": "7c28970f-97d9-4a69-89d7-98756a43f16f"
      },
      "outputs": [
        {
          "name": "stdout",
          "output_type": "stream",
          "text": [
            "cherry\n"
          ]
        }
      ],
      "source": [
        " thislist = [\"apple\", \"banana\", \"cherry\"]\n",
        "print(thislist[-1])"
      ]
    },
    {
      "cell_type": "markdown",
      "metadata": {
        "id": "hHxtEfVAGRxF"
      },
      "source": [
        "# **Range of Indexes**\n",
        "\n",
        "You can specify a range of indexes by specifying where to start and where to end the range.\n",
        "\n",
        "When specifying a range, the return value will be a new list with the specified items."
      ]
    },
    {
      "cell_type": "code",
      "execution_count": null,
      "metadata": {
        "colab": {
          "base_uri": "https://localhost:8080/",
          "height": 34
        },
        "id": "qLTPiua1GU68",
        "outputId": "186d88c5-7d6f-481f-f366-cf6db0d2384c"
      },
      "outputs": [
        {
          "name": "stdout",
          "output_type": "stream",
          "text": [
            "['cherry', 'orange', 'kiwi']\n"
          ]
        }
      ],
      "source": [
        "thislist = [\"apple\", \"banana\", \"cherry\", \"orange\", \"kiwi\", \"melon\", \"mango\"]\n",
        "print(thislist[2:5])"
      ]
    },
    {
      "cell_type": "code",
      "execution_count": null,
      "metadata": {
        "colab": {
          "base_uri": "https://localhost:8080/",
          "height": 34
        },
        "id": "iaVJcl0UGW7Y",
        "outputId": "aa50c420-bf76-4af8-9b30-00d9f431dc38"
      },
      "outputs": [
        {
          "name": "stdout",
          "output_type": "stream",
          "text": [
            "['apple', 'banana', 'cherry', 'orange']\n"
          ]
        }
      ],
      "source": [
        "thislist = [\"apple\", \"banana\", \"cherry\", \"orange\", \"kiwi\", \"melon\", \"mango\"]\n",
        "print(thislist[:4])"
      ]
    },
    {
      "cell_type": "code",
      "execution_count": null,
      "metadata": {
        "colab": {
          "base_uri": "https://localhost:8080/",
          "height": 34
        },
        "id": "xj2fJsOgGYx6",
        "outputId": "50dca118-3156-4863-cf75-325c3d04ce66"
      },
      "outputs": [
        {
          "name": "stdout",
          "output_type": "stream",
          "text": [
            "['cherry', 'orange', 'kiwi', 'melon', 'mango']\n"
          ]
        }
      ],
      "source": [
        "thislist = [\"apple\", \"banana\", \"cherry\", \"orange\", \"kiwi\", \"melon\", \"mango\"]\n",
        "print(thislist[2:])"
      ]
    },
    {
      "cell_type": "markdown",
      "metadata": {
        "id": "rCqXmrSBGcy8"
      },
      "source": [
        "## **Range of Negative Indexes**\n",
        "\n",
        "Specify negative indexes if you want to start the search from the end of the list:"
      ]
    },
    {
      "cell_type": "code",
      "execution_count": null,
      "metadata": {
        "colab": {
          "base_uri": "https://localhost:8080/",
          "height": 34
        },
        "id": "t-moj7KDGagu",
        "outputId": "74970b4a-87a8-49b2-b1f1-10842616211a"
      },
      "outputs": [
        {
          "name": "stdout",
          "output_type": "stream",
          "text": [
            "['orange', 'kiwi', 'melon']\n"
          ]
        }
      ],
      "source": [
        "thislist = [\"apple\", \"banana\", \"cherry\", \"orange\", \"kiwi\", \"melon\", \"mango\"]\n",
        "print(thislist[-4:-1])"
      ]
    },
    {
      "cell_type": "markdown",
      "metadata": {
        "id": "A9dCK48cGkgE"
      },
      "source": [
        "\n",
        "## **Change Item Value**\n",
        "\n",
        "To change the value of a specific item, refer to the index number:"
      ]
    },
    {
      "cell_type": "code",
      "execution_count": null,
      "metadata": {
        "colab": {
          "base_uri": "https://localhost:8080/",
          "height": 34
        },
        "id": "YIDN7OzEGgBz",
        "outputId": "4611c114-22f1-48cb-bd74-9e50307698b7"
      },
      "outputs": [
        {
          "name": "stdout",
          "output_type": "stream",
          "text": [
            "['apple', 'blackcurrant', 'cherry']\n"
          ]
        }
      ],
      "source": [
        "thislist = [\"apple\", \"banana\", \"cherry\"]\n",
        "thislist[1] = \"blackcurrant\"\n",
        "print(thislist)"
      ]
    },
    {
      "cell_type": "markdown",
      "metadata": {
        "id": "X-Asj0aGGwtV"
      },
      "source": [
        "## Loop Through a List\n",
        "\n",
        "You can loop through the list items by using a for loop:"
      ]
    },
    {
      "cell_type": "code",
      "execution_count": null,
      "metadata": {
        "colab": {
          "base_uri": "https://localhost:8080/",
          "height": 69
        },
        "id": "Ws4oWtAaGqVz",
        "outputId": "d12fbbc5-915c-4c7c-9b34-b9052ba4bc1c"
      },
      "outputs": [
        {
          "name": "stdout",
          "output_type": "stream",
          "text": [
            "apple\n",
            "banana\n",
            "cherry\n"
          ]
        }
      ],
      "source": [
        "thislist = [\"apple\", \"banana\", \"cherry\"]\n",
        "for x in thislist:\n",
        "  print(x) "
      ]
    },
    {
      "cell_type": "markdown",
      "metadata": {
        "id": "gdBwpM1bG29g"
      },
      "source": [
        "# **Check if Item Exists**\n",
        "\n",
        "To determine if a specified item is present in a list use the in keyword:"
      ]
    },
    {
      "cell_type": "code",
      "execution_count": null,
      "metadata": {
        "colab": {
          "base_uri": "https://localhost:8080/",
          "height": 34
        },
        "id": "CmrvGJKmG0rb",
        "outputId": "121d281f-9d47-4620-d588-db78d9050fa5"
      },
      "outputs": [
        {
          "name": "stdout",
          "output_type": "stream",
          "text": [
            "Yes, 'apple' is in the fruits list\n"
          ]
        }
      ],
      "source": [
        "thislist = [\"apple\", \"banana\", \"cherry\"]\n",
        "if \"apple\" in thislist:\n",
        "  print(\"Yes, 'apple' is in the fruits list\") "
      ]
    },
    {
      "cell_type": "markdown",
      "metadata": {
        "id": "zrUncRf7G89a"
      },
      "source": [
        "### **List Length**\n",
        "\n",
        "To determine how many items a list has, use the len() function:"
      ]
    },
    {
      "cell_type": "code",
      "execution_count": null,
      "metadata": {
        "colab": {
          "base_uri": "https://localhost:8080/",
          "height": 34
        },
        "id": "k-SkQ72gHEDR",
        "outputId": "22356ade-2e00-4376-a936-3f8ef7be9e54"
      },
      "outputs": [
        {
          "name": "stdout",
          "output_type": "stream",
          "text": [
            "3\n"
          ]
        }
      ],
      "source": [
        "thislist = [\"apple\", \"banana\", \"cherry\"]\n",
        "print(len(thislist))"
      ]
    },
    {
      "cell_type": "markdown",
      "metadata": {
        "id": "pPFudyEqHI_c"
      },
      "source": [
        "## **Add Items**\n",
        "\n",
        "To add an item to the end of the list, use the append() method:"
      ]
    },
    {
      "cell_type": "code",
      "execution_count": null,
      "metadata": {
        "colab": {
          "base_uri": "https://localhost:8080/",
          "height": 34
        },
        "id": "5FWH7FlHHGoJ",
        "outputId": "b74f295d-f22b-48f2-96b4-f1738e5b0fcc"
      },
      "outputs": [
        {
          "name": "stdout",
          "output_type": "stream",
          "text": [
            "['apple', 'banana', 'cherry', 'orange']\n"
          ]
        }
      ],
      "source": [
        "thislist = [\"apple\", \"banana\", \"cherry\"]\n",
        "thislist.append(\"orange\")\n",
        "print(thislist)"
      ]
    },
    {
      "cell_type": "markdown",
      "metadata": {
        "id": "jVg-jlKdHSDM"
      },
      "source": [
        "To add an item at the specified index, use the `insert()` method:"
      ]
    },
    {
      "cell_type": "code",
      "execution_count": null,
      "metadata": {
        "colab": {
          "base_uri": "https://localhost:8080/",
          "height": 34
        },
        "id": "RWbEglV5HOro",
        "outputId": "2e384b6a-758c-4525-89e2-c80ac8ed788d"
      },
      "outputs": [
        {
          "name": "stdout",
          "output_type": "stream",
          "text": [
            "['apple', 'orange', 'banana', 'cherry']\n"
          ]
        }
      ],
      "source": [
        "thislist = [\"apple\", \"banana\", \"cherry\"]\n",
        "thislist.insert(1, \"orange\")\n",
        "print(thislist)"
      ]
    },
    {
      "cell_type": "markdown",
      "metadata": {
        "id": "D9GSK_0QHcRH"
      },
      "source": [
        "# **Remove Item**\n",
        "\n",
        "There are several methods to remove items from a list:"
      ]
    },
    {
      "cell_type": "code",
      "execution_count": null,
      "metadata": {
        "colab": {
          "base_uri": "https://localhost:8080/",
          "height": 34
        },
        "id": "IVWa7dhoHZxW",
        "outputId": "5758086a-24c8-4443-b93e-03b8e63d0ac3"
      },
      "outputs": [
        {
          "name": "stdout",
          "output_type": "stream",
          "text": [
            "['apple', 'cherry']\n"
          ]
        }
      ],
      "source": [
        "thislist = [\"apple\", \"banana\", \"cherry\"]\n",
        "thislist.remove(\"banana\")\n",
        "print(thislist)"
      ]
    },
    {
      "cell_type": "markdown",
      "metadata": {
        "id": "G_-D4aZlHjJI"
      },
      "source": [
        "The `pop() `method removes the specified index, (or the last item if index is not specified):"
      ]
    },
    {
      "cell_type": "code",
      "execution_count": null,
      "metadata": {
        "colab": {
          "base_uri": "https://localhost:8080/",
          "height": 34
        },
        "id": "14Vr_-SfHg6q",
        "outputId": "e994fff3-99f2-4f21-b6f0-228ace76b0ca"
      },
      "outputs": [
        {
          "name": "stdout",
          "output_type": "stream",
          "text": [
            "['apple', 'banana']\n"
          ]
        }
      ],
      "source": [
        "thislist = [\"apple\", \"banana\", \"cherry\"]\n",
        "thislist.pop()\n",
        "print(thislist)"
      ]
    },
    {
      "cell_type": "markdown",
      "metadata": {
        "id": "CTlFzkIkHo30"
      },
      "source": [
        "The `del` keyword removes the specified index:"
      ]
    },
    {
      "cell_type": "code",
      "execution_count": null,
      "metadata": {
        "colab": {
          "base_uri": "https://localhost:8080/",
          "height": 34
        },
        "id": "JhWyspdIHmsp",
        "outputId": "9817d58a-3c94-4dc3-9aa6-3f747ceca3e7"
      },
      "outputs": [
        {
          "name": "stdout",
          "output_type": "stream",
          "text": [
            "['banana', 'cherry']\n"
          ]
        }
      ],
      "source": [
        "thislist = [\"apple\", \"banana\", \"cherry\"]\n",
        "del thislist[0]\n",
        "print(thislist)"
      ]
    },
    {
      "cell_type": "markdown",
      "metadata": {
        "id": "F7dF1v5cHxfc"
      },
      "source": [
        "The `del` keyword can also delete the list completely:"
      ]
    },
    {
      "cell_type": "code",
      "execution_count": null,
      "metadata": {
        "id": "i4fBIdL2Ht1f"
      },
      "outputs": [],
      "source": [
        "thislist = [\"apple\", \"banana\", \"cherry\"]\n",
        "del thislist "
      ]
    },
    {
      "cell_type": "markdown",
      "metadata": {
        "id": "esgbQnRjH3_t"
      },
      "source": [
        "The `clear()` method empties the list:"
      ]
    },
    {
      "cell_type": "code",
      "execution_count": null,
      "metadata": {
        "colab": {
          "base_uri": "https://localhost:8080/",
          "height": 34
        },
        "id": "6q1-9dM8H1R9",
        "outputId": "26619c2b-cf36-4a18-a9aa-0ab2ce431037"
      },
      "outputs": [
        {
          "name": "stdout",
          "output_type": "stream",
          "text": [
            "[]\n"
          ]
        }
      ],
      "source": [
        "thislist = [\"apple\", \"banana\", \"cherry\"]\n",
        "thislist.clear()\n",
        "print(thislist)"
      ]
    },
    {
      "cell_type": "markdown",
      "metadata": {
        "id": "jKq1Pc7VH8z6"
      },
      "source": [
        "## **Copy a List**\n",
        "\n",
        "You cannot copy a `list` simply by typing `list2 = list1`, because: list2 will only be a reference to list1, and changes made in `list1 `will automatically also be made in `list2`.\n",
        "\n",
        "There are ways to make a copy, one way is to use the built-in List method `copy()`."
      ]
    },
    {
      "cell_type": "code",
      "execution_count": null,
      "metadata": {
        "colab": {
          "base_uri": "https://localhost:8080/",
          "height": 34
        },
        "id": "7bYE90IPH6tF",
        "outputId": "d46b0ef8-3b09-4a94-c3a1-d403aeecb5fa"
      },
      "outputs": [
        {
          "name": "stdout",
          "output_type": "stream",
          "text": [
            "['apple', 'banana', 'cherry']\n"
          ]
        }
      ],
      "source": [
        "thislist = [\"apple\", \"banana\", \"cherry\"]\n",
        "mylist = thislist.copy()\n",
        "print(mylist)"
      ]
    },
    {
      "cell_type": "markdown",
      "metadata": {
        "id": "6LKJlrqlISiZ"
      },
      "source": [
        "Another way to make a copy is to use the built-in method `list()`.\n",
        "\n",
        "**Example**\n",
        "\n",
        "Make a copy of a list with the `list()` method:"
      ]
    },
    {
      "cell_type": "code",
      "execution_count": null,
      "metadata": {
        "colab": {
          "base_uri": "https://localhost:8080/",
          "height": 34
        },
        "id": "EyqshPQPIPdX",
        "outputId": "fc3feac0-a23c-4d83-d591-bccde88dfe83"
      },
      "outputs": [
        {
          "name": "stdout",
          "output_type": "stream",
          "text": [
            "['apple', 'banana', 'cherry']\n"
          ]
        }
      ],
      "source": [
        "thislist = [\"apple\", \"banana\", \"cherry\"]\n",
        "mylist = list(thislist)\n",
        "print(mylist)"
      ]
    },
    {
      "cell_type": "markdown",
      "metadata": {
        "id": "3yOK3Qo4Id5V"
      },
      "source": [
        "## **Join Two Lists**\n",
        "\n",
        "There are several ways to join, or concatenate, two or more lists in Python.\n",
        "\n",
        "One of the easiest ways are by using the + operator."
      ]
    },
    {
      "cell_type": "code",
      "execution_count": null,
      "metadata": {
        "colab": {
          "base_uri": "https://localhost:8080/",
          "height": 34
        },
        "id": "ywEisyaeIbGC",
        "outputId": "f2b2a09e-cc57-452a-d1cb-f9737f30f298"
      },
      "outputs": [
        {
          "name": "stdout",
          "output_type": "stream",
          "text": [
            "['a', 'b', 'c', 1, 2, 3]\n"
          ]
        }
      ],
      "source": [
        "list1 = [\"a\", \"b\" , \"c\"]\n",
        "list2 = [1, 2, 3]\n",
        "\n",
        "list3 = list1 + list2\n",
        "print(list3) "
      ]
    },
    {
      "cell_type": "markdown",
      "metadata": {
        "id": "vftpPAlmIkuC"
      },
      "source": [
        "**Example**\n",
        "\n",
        "Append list2 into list1:"
      ]
    },
    {
      "cell_type": "code",
      "execution_count": null,
      "metadata": {
        "colab": {
          "base_uri": "https://localhost:8080/",
          "height": 34
        },
        "id": "npCEE3nEImTr",
        "outputId": "a7a8eefe-70d5-42be-9089-2d26cc999593"
      },
      "outputs": [
        {
          "name": "stdout",
          "output_type": "stream",
          "text": [
            "['a', 'b', 'c', 1, 2, 3]\n"
          ]
        }
      ],
      "source": [
        "list1 = [\"a\", \"b\" , \"c\"]\n",
        "list2 = [1, 2, 3]\n",
        "\n",
        "for x in list2:\n",
        "  list1.append(x)\n",
        "\n",
        "print(list1) "
      ]
    },
    {
      "cell_type": "markdown",
      "metadata": {
        "id": "V0TiVHglIuD0"
      },
      "source": [
        "Or you can use the `extend()` method, which purpose is to add elements from one list to another `list`:\n",
        "\n",
        "**Example**\n",
        "\n",
        "Use the `extend()` method to add `list2` at the end of `list1`:"
      ]
    },
    {
      "cell_type": "code",
      "execution_count": null,
      "metadata": {
        "colab": {
          "base_uri": "https://localhost:8080/",
          "height": 34
        },
        "id": "eJ7FLLu-Ip2C",
        "outputId": "3e5c4b3a-9c32-430c-9e4b-b6cb09ca6004"
      },
      "outputs": [
        {
          "name": "stdout",
          "output_type": "stream",
          "text": [
            "['a', 'b', 'c', 1, 2, 3]\n"
          ]
        }
      ],
      "source": [
        "list1 = [\"a\", \"b\" , \"c\"]\n",
        "list2 = [1, 2, 3]\n",
        "\n",
        "list1.extend(list2)\n",
        "print(list1) "
      ]
    },
    {
      "cell_type": "markdown",
      "metadata": {
        "id": "SJTY0TcLI_sh"
      },
      "source": [
        "## **The list() Constructor**\n",
        "\n",
        "It is also possible to use the l`ist()` constructor to make a new list."
      ]
    },
    {
      "cell_type": "markdown",
      "metadata": {
        "id": "RVGdBX9RJIr0"
      },
      "source": [
        "**Example**\n",
        "\n",
        "Using the list() constructor to make a List:"
      ]
    },
    {
      "cell_type": "code",
      "execution_count": null,
      "metadata": {
        "colab": {
          "base_uri": "https://localhost:8080/",
          "height": 34
        },
        "id": "ajm4sft3JIaa",
        "outputId": "4cf46bf2-f704-4fb0-f103-5646c3b58c5f"
      },
      "outputs": [
        {
          "name": "stdout",
          "output_type": "stream",
          "text": [
            "['apple', 'banana', 'cherry']\n"
          ]
        }
      ],
      "source": [
        "thislist = list((\"apple\", \"banana\", \"cherry\")) # note the double round-brackets\n",
        "print(thislist)"
      ]
    },
    {
      "cell_type": "markdown",
      "metadata": {
        "id": "i00wZ29bJQBi"
      },
      "source": [
        "## **List Methods**\n",
        "\n",
        "Python has a set of built-in methods that you can use on lists."
      ]
    },
    {
      "cell_type": "code",
      "execution_count": null,
      "metadata": {
        "id": "7M8EXIqGI5yz"
      },
      "outputs": [],
      "source": [
        "Method \t    Description\n",
        "append()\t  Adds an element at the end of the list\n",
        "clear()\t    Removes all the elements from the list\n",
        "copy()\t    Returns a copy of the list\n",
        "count()\t    Returns the number of elements with the specified value\n",
        "extend()\t  Add the elements of a list (or any iterable), to the end of the current list\n",
        "index()\t    Returns the index of the first element with the specified value\n",
        "insert()\t  Adds an element at the specified position\n",
        "pop()\t      Removes the element at the specified position\n",
        "remove()\t  Removes the item with the specified value\n",
        "reverse()\t  Reverses the order of the list\n",
        "sort()\t    Sorts the list"
      ]
    },
    {
      "cell_type": "markdown",
      "metadata": {
        "id": "-GC8TXfUJb95"
      },
      "source": [
        "## **Tuple**\n",
        "\n",
        "A tuple is a collection which is ordered and unchangeable. In Python tuples are written with round brackets."
      ]
    },
    {
      "cell_type": "code",
      "execution_count": null,
      "metadata": {
        "colab": {
          "base_uri": "https://localhost:8080/",
          "height": 34
        },
        "id": "WydOis8UJbWz",
        "outputId": "cbb847d8-08ff-4832-ac96-db7493e55170"
      },
      "outputs": [
        {
          "name": "stdout",
          "output_type": "stream",
          "text": [
            "('apple', 'banana', 'cherry')\n"
          ]
        }
      ],
      "source": [
        "thistuple = (\"apple\", \"banana\", \"cherry\")\n",
        "print(thistuple)"
      ]
    },
    {
      "cell_type": "markdown",
      "metadata": {
        "id": "OWUb9k29KaTc"
      },
      "source": [
        "## **Access Tuple Items**\n",
        "\n",
        "You can access tuple items by referring to the index number, inside square brackets:"
      ]
    },
    {
      "cell_type": "code",
      "execution_count": null,
      "metadata": {
        "colab": {
          "base_uri": "https://localhost:8080/",
          "height": 34
        },
        "id": "pLe-N0GQKXbr",
        "outputId": "3be93e5d-3d54-4c71-f589-e3ba77d493d5"
      },
      "outputs": [
        {
          "name": "stdout",
          "output_type": "stream",
          "text": [
            "banana\n"
          ]
        }
      ],
      "source": [
        "thistuple = (\"apple\", \"banana\", \"cherry\")\n",
        "print(thistuple[1])"
      ]
    },
    {
      "cell_type": "markdown",
      "metadata": {
        "id": "irchBxNzKpeF"
      },
      "source": [
        "## **Negative Indexing**\n",
        "\n",
        "Negative indexing means beginning from the end, -1 refers to the last item, -2 refers to the second last item etc."
      ]
    },
    {
      "cell_type": "code",
      "execution_count": null,
      "metadata": {
        "colab": {
          "base_uri": "https://localhost:8080/",
          "height": 34
        },
        "id": "2v-fudQ4Kmqv",
        "outputId": "d4f3eb23-b40f-4642-fe04-ea51ff91de33"
      },
      "outputs": [
        {
          "name": "stdout",
          "output_type": "stream",
          "text": [
            "cherry\n"
          ]
        }
      ],
      "source": [
        "thistuple = (\"apple\", \"banana\", \"cherry\")\n",
        "print(thistuple[-1])"
      ]
    },
    {
      "cell_type": "markdown",
      "metadata": {
        "id": "nJv-7pq0K0b5"
      },
      "source": [
        "## **Range of Indexes**\n",
        "\n",
        "You can specify a range of indexes by specifying where to start and where to end the range.\n",
        "\n",
        "When specifying a range, the return value will be a new tuple with the specified items."
      ]
    },
    {
      "cell_type": "code",
      "execution_count": null,
      "metadata": {
        "colab": {
          "base_uri": "https://localhost:8080/",
          "height": 34
        },
        "id": "f_UH64bhKyBv",
        "outputId": "e6f5cc3e-903d-46ee-c451-9b98d31f9af0"
      },
      "outputs": [
        {
          "name": "stdout",
          "output_type": "stream",
          "text": [
            "('cherry', 'orange', 'kiwi')\n"
          ]
        }
      ],
      "source": [
        "thistuple = (\"apple\", \"banana\", \"cherry\", \"orange\", \"kiwi\", \"melon\", \"mango\")\n",
        "print(thistuple[2:5])"
      ]
    },
    {
      "cell_type": "markdown",
      "metadata": {
        "id": "QFZjCXdWK9fT"
      },
      "source": [
        "## **Range of Negative Indexes**\n",
        "\n",
        "Specify negative indexes if you want to start the search from the end of the tuple:"
      ]
    },
    {
      "cell_type": "code",
      "execution_count": null,
      "metadata": {
        "colab": {
          "base_uri": "https://localhost:8080/",
          "height": 34
        },
        "id": "q-rOgUFnK4jz",
        "outputId": "e41cda7a-c2b9-4e96-b78a-2f4806b9d133"
      },
      "outputs": [
        {
          "name": "stdout",
          "output_type": "stream",
          "text": [
            "('orange', 'kiwi', 'melon')\n"
          ]
        }
      ],
      "source": [
        " thistuple = (\"apple\", \"banana\", \"cherry\", \"orange\", \"kiwi\", \"melon\", \"mango\")\n",
        "print(thistuple[-4:-1])"
      ]
    },
    {
      "cell_type": "markdown",
      "metadata": {
        "id": "rj_4bYZDLCps"
      },
      "source": [
        "## **Change Tuple Values**\n",
        "\n",
        "Once a tuple is created, you cannot change its values. Tuples are unchangeable, or immutable as it also is called.\n",
        "\n",
        "But there is a workaround. You can convert the tuple into a list, change the list, and convert the list back into a tuple."
      ]
    },
    {
      "cell_type": "code",
      "execution_count": null,
      "metadata": {
        "colab": {
          "base_uri": "https://localhost:8080/",
          "height": 34
        },
        "id": "3_nC3tWiLAjd",
        "outputId": "3f6573f1-8de8-4d47-ad1c-c187ab3d8aaa"
      },
      "outputs": [
        {
          "name": "stdout",
          "output_type": "stream",
          "text": [
            "('apple', 'kiwi', 'cherry')\n"
          ]
        }
      ],
      "source": [
        " x = (\"apple\", \"banana\", \"cherry\")\n",
        "y = list(x)\n",
        "y[1] = \"kiwi\"\n",
        "x = tuple(y)\n",
        "\n",
        "print(x) "
      ]
    },
    {
      "cell_type": "markdown",
      "metadata": {
        "id": "zzgnVSkhLOBm"
      },
      "source": [
        "## **Loop Through a Tuple**\n",
        "\n",
        "You can loop through the tuple items by using a `for` loop."
      ]
    },
    {
      "cell_type": "code",
      "execution_count": null,
      "metadata": {
        "colab": {
          "base_uri": "https://localhost:8080/",
          "height": 69
        },
        "id": "f6VmcrLqLMFQ",
        "outputId": "670a97df-d43a-44d7-dbee-cc766d7c2b1b"
      },
      "outputs": [
        {
          "name": "stdout",
          "output_type": "stream",
          "text": [
            "apple\n",
            "banana\n",
            "cherry\n"
          ]
        }
      ],
      "source": [
        "thistuple = (\"apple\", \"banana\", \"cherry\")\n",
        "for x in thistuple:\n",
        "  print(x)"
      ]
    },
    {
      "cell_type": "markdown",
      "metadata": {
        "id": "blkIKcNOLXwd"
      },
      "source": [
        "## **Check if Item Exists**\n",
        "\n",
        "To determine if a specified item is present in a tuple use the in keyword:"
      ]
    },
    {
      "cell_type": "code",
      "execution_count": null,
      "metadata": {
        "colab": {
          "base_uri": "https://localhost:8080/",
          "height": 34
        },
        "id": "jC6uj0rpLSgd",
        "outputId": "a8ab31cc-5166-425f-851d-fc0bf641bf17"
      },
      "outputs": [
        {
          "name": "stdout",
          "output_type": "stream",
          "text": [
            "Yes, 'apple' is in the fruits tuple\n"
          ]
        }
      ],
      "source": [
        " thistuple = (\"apple\", \"banana\", \"cherry\")\n",
        "if \"apple\" in thistuple:\n",
        "  print(\"Yes, 'apple' is in the fruits tuple\")"
      ]
    },
    {
      "cell_type": "markdown",
      "metadata": {
        "id": "gUkCD4hJLeSJ"
      },
      "source": [
        "## **Tuple Length**\n",
        "\n",
        "To determine how many items a tuple has, use the `len()` method:"
      ]
    },
    {
      "cell_type": "code",
      "execution_count": null,
      "metadata": {
        "colab": {
          "base_uri": "https://localhost:8080/",
          "height": 34
        },
        "id": "stNM3geQLder",
        "outputId": "e64fc171-8423-4761-cab3-125c5c5667fb"
      },
      "outputs": [
        {
          "name": "stdout",
          "output_type": "stream",
          "text": [
            "3\n"
          ]
        }
      ],
      "source": [
        " thistuple = (\"apple\", \"banana\", \"cherry\")\n",
        "print(len(thistuple)) "
      ]
    },
    {
      "cell_type": "markdown",
      "metadata": {
        "id": "QxQ99xmhLnxe"
      },
      "source": [
        "## **Add Items**\n",
        "\n",
        "Once a tuple is created, you cannot add items to it. Tuples are **unchangeable**."
      ]
    },
    {
      "cell_type": "code",
      "execution_count": null,
      "metadata": {
        "colab": {
          "base_uri": "https://localhost:8080/",
          "height": 200
        },
        "id": "IliGoLuuLa6W",
        "outputId": "004d304c-8142-469c-85e6-5bb0275b6d72"
      },
      "outputs": [
        {
          "ename": "TypeError",
          "evalue": "ignored",
          "output_type": "error",
          "traceback": [
            "\u001b[0;31m---------------------------------------------------------------------------\u001b[0m",
            "\u001b[0;31mTypeError\u001b[0m                                 Traceback (most recent call last)",
            "\u001b[0;32m<ipython-input-79-fe88f2910dbf>\u001b[0m in \u001b[0;36m<module>\u001b[0;34m()\u001b[0m\n\u001b[1;32m      1\u001b[0m \u001b[0mthistuple\u001b[0m \u001b[0;34m=\u001b[0m \u001b[0;34m(\u001b[0m\u001b[0;34m\"apple\"\u001b[0m\u001b[0;34m,\u001b[0m \u001b[0;34m\"banana\"\u001b[0m\u001b[0;34m,\u001b[0m \u001b[0;34m\"cherry\"\u001b[0m\u001b[0;34m)\u001b[0m\u001b[0;34m\u001b[0m\u001b[0;34m\u001b[0m\u001b[0m\n\u001b[0;32m----> 2\u001b[0;31m \u001b[0mthistuple\u001b[0m\u001b[0;34m[\u001b[0m\u001b[0;36m3\u001b[0m\u001b[0;34m]\u001b[0m \u001b[0;34m=\u001b[0m \u001b[0;34m\"orange\"\u001b[0m \u001b[0;31m# This will raise an error\u001b[0m\u001b[0;34m\u001b[0m\u001b[0;34m\u001b[0m\u001b[0m\n\u001b[0m\u001b[1;32m      3\u001b[0m \u001b[0mprint\u001b[0m\u001b[0;34m(\u001b[0m\u001b[0mthistuple\u001b[0m\u001b[0;34m)\u001b[0m\u001b[0;34m\u001b[0m\u001b[0;34m\u001b[0m\u001b[0m\n",
            "\u001b[0;31mTypeError\u001b[0m: 'tuple' object does not support item assignment"
          ]
        }
      ],
      "source": [
        "thistuple = (\"apple\", \"banana\", \"cherry\")\n",
        "thistuple[3] = \"orange\" # This will raise an error\n",
        "print(thistuple)"
      ]
    },
    {
      "cell_type": "markdown",
      "metadata": {
        "id": "Vpp1EO_TLw-B"
      },
      "source": [
        "## **Create Tuple With One Item**\n",
        "\n",
        "To create a tuple with only one item, you have add a comma after the item, unless Python will not recognize the variable as a tuple."
      ]
    },
    {
      "cell_type": "code",
      "execution_count": null,
      "metadata": {
        "colab": {
          "base_uri": "https://localhost:8080/",
          "height": 52
        },
        "id": "O3HvX5p-LtlS",
        "outputId": "701bd2c8-6ce0-43a4-e757-df2406a83f30"
      },
      "outputs": [
        {
          "name": "stdout",
          "output_type": "stream",
          "text": [
            "<class 'tuple'>\n",
            "<class 'str'>\n"
          ]
        }
      ],
      "source": [
        "thistuple = (\"apple\",)\n",
        "print(type(thistuple))\n",
        "\n",
        "#NOT a tuple\n",
        "thistuple = (\"apple\")\n",
        "print(type(thistuple)) "
      ]
    },
    {
      "cell_type": "markdown",
      "metadata": {
        "id": "FYrHDEAQL2VD"
      },
      "source": [
        "## **Remove Items**"
      ]
    },
    {
      "cell_type": "markdown",
      "metadata": {
        "id": "-t1lM9nYL7PB"
      },
      "source": [
        "Note: You cannot remove items in a tuple.\n",
        "\n",
        " Tuples are unchangeable, so you cannot remove items from it, but you can delete the tuple completely:\n",
        "Example\n",
        "\n",
        "The del keyword can delete the tuple completely:"
      ]
    },
    {
      "cell_type": "code",
      "execution_count": null,
      "metadata": {
        "colab": {
          "base_uri": "https://localhost:8080/",
          "height": 200
        },
        "id": "nFo7dQU_L0JT",
        "outputId": "ea164ae9-a415-4282-b413-a593cfe5774c"
      },
      "outputs": [
        {
          "ename": "NameError",
          "evalue": "ignored",
          "output_type": "error",
          "traceback": [
            "\u001b[0;31m---------------------------------------------------------------------------\u001b[0m",
            "\u001b[0;31mNameError\u001b[0m                                 Traceback (most recent call last)",
            "\u001b[0;32m<ipython-input-83-99603c64a858>\u001b[0m in \u001b[0;36m<module>\u001b[0;34m()\u001b[0m\n\u001b[1;32m      1\u001b[0m \u001b[0mthistuple\u001b[0m \u001b[0;34m=\u001b[0m \u001b[0;34m(\u001b[0m\u001b[0;34m\"apple\"\u001b[0m\u001b[0;34m,\u001b[0m \u001b[0;34m\"banana\"\u001b[0m\u001b[0;34m,\u001b[0m \u001b[0;34m\"cherry\"\u001b[0m\u001b[0;34m)\u001b[0m\u001b[0;34m\u001b[0m\u001b[0;34m\u001b[0m\u001b[0m\n\u001b[1;32m      2\u001b[0m \u001b[0;32mdel\u001b[0m \u001b[0mthistuple\u001b[0m\u001b[0;34m\u001b[0m\u001b[0;34m\u001b[0m\u001b[0m\n\u001b[0;32m----> 3\u001b[0;31m \u001b[0mprint\u001b[0m\u001b[0;34m(\u001b[0m\u001b[0mthistuple\u001b[0m\u001b[0;34m)\u001b[0m \u001b[0;31m#this will raise an error because the tuple no longer exists\u001b[0m\u001b[0;34m\u001b[0m\u001b[0;34m\u001b[0m\u001b[0m\n\u001b[0m",
            "\u001b[0;31mNameError\u001b[0m: name 'thistuple' is not defined"
          ]
        }
      ],
      "source": [
        "thistuple = (\"apple\", \"banana\", \"cherry\")\n",
        "del thistuple\n",
        "print(thistuple) #this will raise an error because the tuple no longer exists   "
      ]
    },
    {
      "cell_type": "markdown",
      "metadata": {
        "id": "A1FzSujvML6R"
      },
      "source": [
        "## **Join Two Tuples**\n",
        "\n",
        "To join two or more tuples you can use the + operator:"
      ]
    },
    {
      "cell_type": "code",
      "execution_count": null,
      "metadata": {
        "colab": {
          "base_uri": "https://localhost:8080/",
          "height": 34
        },
        "id": "sFnwrnWgL_6a",
        "outputId": "924325de-72e5-4eb5-b8cb-0206a539fb9a"
      },
      "outputs": [
        {
          "name": "stdout",
          "output_type": "stream",
          "text": [
            "('a', 'b', 'c', 1, 2, 3)\n"
          ]
        }
      ],
      "source": [
        "tuple1 = (\"a\", \"b\" , \"c\")\n",
        "tuple2 = (1, 2, 3)\n",
        "\n",
        "tuple3 = tuple1 + tuple2\n",
        "print(tuple3)"
      ]
    },
    {
      "cell_type": "markdown",
      "metadata": {
        "id": "Tm1NgUtyMRPk"
      },
      "source": [
        "## **The tuple() Constructor**\n",
        "\n",
        "It is also possible to use the `tuple()` constructor to make a tuple."
      ]
    },
    {
      "cell_type": "code",
      "execution_count": null,
      "metadata": {
        "colab": {
          "base_uri": "https://localhost:8080/",
          "height": 34
        },
        "id": "O4Se4k3FMPPH",
        "outputId": "3c301606-18a4-4d7c-9778-f5d7585e70f1"
      },
      "outputs": [
        {
          "name": "stdout",
          "output_type": "stream",
          "text": [
            "('apple', 'banana', 'cherry')\n"
          ]
        }
      ],
      "source": [
        "thistuple = tuple((\"apple\", \"banana\", \"cherry\")) # note the double round-brackets\n",
        "print(thistuple)"
      ]
    },
    {
      "cell_type": "markdown",
      "metadata": {
        "id": "lEe1_xwKMcvE"
      },
      "source": [
        "## **Tuple Methods**\n",
        "\n",
        "Python has two built-in methods that you can use on tuples."
      ]
    },
    {
      "cell_type": "code",
      "execution_count": null,
      "metadata": {
        "id": "tPmhsNgcMbCv"
      },
      "outputs": [],
      "source": [
        "Method \t  Description\n",
        "count()\t  Returns the number of times a specified value occurs in a tuple\n",
        "index()\t  Searches the tuple for a specified value and returns the position of where it was found"
      ]
    },
    {
      "cell_type": "markdown",
      "metadata": {
        "id": "CGMmv0DeMrpg"
      },
      "source": [
        "### **Set**\n",
        "\n",
        "A set is a collection which is unordered and unindexed. In Python sets are written with curly brackets"
      ]
    },
    {
      "cell_type": "code",
      "execution_count": null,
      "metadata": {
        "colab": {
          "base_uri": "https://localhost:8080/",
          "height": 34
        },
        "id": "XMOLvm4uMuLJ",
        "outputId": "c2d39f28-54ef-4cba-c743-877e2de757b6"
      },
      "outputs": [
        {
          "name": "stdout",
          "output_type": "stream",
          "text": [
            "{'apple', 'banana', 'cherry'}\n"
          ]
        }
      ],
      "source": [
        "thisset = {\"apple\", \"banana\", \"cherry\"}\n",
        "print(thisset) "
      ]
    },
    {
      "cell_type": "markdown",
      "metadata": {
        "id": "ewmFFlNYM0Rn"
      },
      "source": [
        "`Note: Sets are unordered, so you cannot be sure in which order the items will appear.`"
      ]
    },
    {
      "cell_type": "markdown",
      "metadata": {
        "id": "7W_nvC0pM4IP"
      },
      "source": [
        "## **Access Items**\n",
        "\n",
        "You cannot access items in a set by referring to an index, since sets are unordered the items has no index.\n",
        "\n",
        "But you can loop through the set items using a `for` loop, or ask if a specified value is present in a set, by using the `in` keyword."
      ]
    },
    {
      "cell_type": "code",
      "execution_count": null,
      "metadata": {
        "colab": {
          "base_uri": "https://localhost:8080/",
          "height": 69
        },
        "id": "8BMfsO-vMx4H",
        "outputId": "759bce05-b8f9-4eb4-e6cc-449f265dfa45"
      },
      "outputs": [
        {
          "name": "stdout",
          "output_type": "stream",
          "text": [
            "apple\n",
            "banana\n",
            "cherry\n"
          ]
        }
      ],
      "source": [
        "thisset = {\"apple\", \"banana\", \"cherry\"}\n",
        "\n",
        "for x in thisset:\n",
        "  print(x) "
      ]
    },
    {
      "cell_type": "code",
      "execution_count": null,
      "metadata": {
        "colab": {
          "base_uri": "https://localhost:8080/",
          "height": 34
        },
        "id": "by9nm2BANBnk",
        "outputId": "75773582-3bef-4a9a-c8a2-7ce2c5da3565"
      },
      "outputs": [
        {
          "name": "stdout",
          "output_type": "stream",
          "text": [
            "True\n"
          ]
        }
      ],
      "source": [
        "thisset = {\"apple\", \"banana\", \"cherry\"}\n",
        "\n",
        "print(\"banana\" in thisset) "
      ]
    },
    {
      "cell_type": "markdown",
      "metadata": {
        "id": "uhCUNfeHNHbt"
      },
      "source": [
        "## **Change Items**\n",
        "\n",
        "Once a set is created, you cannot change its items, but you can add new items.\n",
        "\n",
        "## **Add Items**\n",
        "\n",
        "To add one item to a set use the `add()` method.\n",
        "\n",
        "To add more than one item to a set use the `update()` method."
      ]
    },
    {
      "cell_type": "markdown",
      "metadata": {
        "id": "bR-aOs1UNRwe"
      },
      "source": [
        "**Example**\n",
        "\n",
        "Add an item to a set, using the `add()` method:"
      ]
    },
    {
      "cell_type": "code",
      "execution_count": null,
      "metadata": {
        "colab": {
          "base_uri": "https://localhost:8080/",
          "height": 34
        },
        "id": "Qz45Bge-NDUO",
        "outputId": "49a5efa0-752a-443a-8c37-a8f7cd86ccd1"
      },
      "outputs": [
        {
          "name": "stdout",
          "output_type": "stream",
          "text": [
            "{'apple', 'banana', 'cherry', 'orange'}\n"
          ]
        }
      ],
      "source": [
        "thisset = {\"apple\", \"banana\", \"cherry\"}\n",
        "\n",
        "thisset.add(\"orange\")\n",
        "\n",
        "print(thisset)"
      ]
    },
    {
      "cell_type": "markdown",
      "metadata": {
        "id": "4R2jntWkNZXN"
      },
      "source": [
        "**Example**\n",
        "\n",
        "Add multiple items to a set, using the `update()` method:"
      ]
    },
    {
      "cell_type": "code",
      "execution_count": null,
      "metadata": {
        "colab": {
          "base_uri": "https://localhost:8080/",
          "height": 34
        },
        "id": "JA1X9Rd-NXMK",
        "outputId": "a8b20375-b2ef-4099-db0d-c52ce65140ce"
      },
      "outputs": [
        {
          "name": "stdout",
          "output_type": "stream",
          "text": [
            "{'apple', 'grapes', 'mango', 'banana', 'cherry', 'orange'}\n"
          ]
        }
      ],
      "source": [
        "thisset = {\"apple\", \"banana\", \"cherry\"}\n",
        "\n",
        "thisset.update([\"orange\", \"mango\", \"grapes\"])\n",
        "\n",
        "print(thisset) "
      ]
    },
    {
      "cell_type": "markdown",
      "metadata": {
        "id": "OQtkbTzCNfa_"
      },
      "source": [
        "## **Get the Length of a Set**\n",
        "\n",
        "To determine how many items a set has, use the `len()` method."
      ]
    },
    {
      "cell_type": "markdown",
      "metadata": {
        "id": "M2bf3_YFNj_3"
      },
      "source": [
        "**Example**\n",
        "\n",
        "Get the number of items in a set:"
      ]
    },
    {
      "cell_type": "code",
      "execution_count": null,
      "metadata": {
        "colab": {
          "base_uri": "https://localhost:8080/",
          "height": 34
        },
        "id": "53z5U1OWNdhb",
        "outputId": "262524c4-3a89-4cfd-a52a-b2dc6fd2487e"
      },
      "outputs": [
        {
          "name": "stdout",
          "output_type": "stream",
          "text": [
            "3\n"
          ]
        }
      ],
      "source": [
        "thisset = {\"apple\", \"banana\", \"cherry\"}\n",
        "\n",
        "print(len(thisset))"
      ]
    },
    {
      "cell_type": "markdown",
      "metadata": {
        "id": "PBn0vFpVNqnm"
      },
      "source": [
        "## **Remove Item**\n",
        "\n",
        "To remove an item in a set, use the `remove()`, or the `discard()` method."
      ]
    },
    {
      "cell_type": "code",
      "execution_count": null,
      "metadata": {
        "colab": {
          "base_uri": "https://localhost:8080/",
          "height": 34
        },
        "id": "A8rxG2GgNnJ7",
        "outputId": "5abf9e4d-968c-4702-a9d8-47caad16da9d"
      },
      "outputs": [
        {
          "name": "stdout",
          "output_type": "stream",
          "text": [
            "{'apple', 'cherry'}\n"
          ]
        }
      ],
      "source": [
        "thisset = {\"apple\", \"banana\", \"cherry\"}\n",
        "\n",
        "thisset.remove(\"banana\")\n",
        "\n",
        "print(thisset)"
      ]
    },
    {
      "cell_type": "markdown",
      "metadata": {
        "id": "4mhDEVl_Nzil"
      },
      "source": [
        "`Note: If the item to remove does not exist, remove() will raise an error.`"
      ]
    },
    {
      "cell_type": "markdown",
      "metadata": {
        "id": "EMgFPX2mN3hB"
      },
      "source": [
        "**Example**\n",
        "\n",
        "Remove \"banana\" by using the discard() method:"
      ]
    },
    {
      "cell_type": "code",
      "execution_count": null,
      "metadata": {
        "colab": {
          "base_uri": "https://localhost:8080/",
          "height": 34
        },
        "id": "_NNcE4-PNwYB",
        "outputId": "b69b2ccf-c9eb-4a54-d836-39f9cc608d6e"
      },
      "outputs": [
        {
          "name": "stdout",
          "output_type": "stream",
          "text": [
            "{'apple', 'cherry'}\n"
          ]
        }
      ],
      "source": [
        "thisset = {\"apple\", \"banana\", \"cherry\"}\n",
        "\n",
        "thisset.discard(\"banana\")\n",
        "\n",
        "print(thisset) "
      ]
    },
    {
      "cell_type": "markdown",
      "metadata": {
        "id": "Ws-ul9ijN9-o"
      },
      "source": [
        "`Note: If the item to remove does not exist, discard() will NOT raise an error.`\n",
        "\n",
        "You can also use the `pop()`, method to remove an item, but this method will remove the last item. Remember that sets are unordered, so you will not know what item that gets removed.\n",
        "\n",
        "The return value of the `pop()` method is the removed item."
      ]
    },
    {
      "cell_type": "markdown",
      "metadata": {
        "id": "ws7JTuElN9vE"
      },
      "source": [
        "**Example**\n",
        "\n",
        "Remove the last item by using the pop() method:"
      ]
    },
    {
      "cell_type": "code",
      "execution_count": null,
      "metadata": {
        "id": "YJGzzhzqPdi4"
      },
      "outputs": [],
      "source": []
    },
    {
      "cell_type": "code",
      "execution_count": null,
      "metadata": {
        "colab": {
          "base_uri": "https://localhost:8080/",
          "height": 52
        },
        "id": "amufVj2QN7E5",
        "outputId": "d63b2bfd-8c94-4c28-96ca-cdd19cc722dc"
      },
      "outputs": [
        {
          "name": "stdout",
          "output_type": "stream",
          "text": [
            "apple\n",
            "{'banana', 'cherry'}\n"
          ]
        }
      ],
      "source": [
        "thisset = {\"apple\", \"banana\", \"cherry\"}\n",
        "\n",
        "x = thisset.pop()\n",
        "\n",
        "print(x)\n",
        "\n",
        "print(thisset) "
      ]
    },
    {
      "cell_type": "markdown",
      "metadata": {
        "id": "CbzqDgZMPiuK"
      },
      "source": [
        "*Note: Sets are unordered, so when using the pop() method, you will not know which item that gets removed.*"
      ]
    },
    {
      "cell_type": "markdown",
      "metadata": {
        "id": "EEkqFjuDPneQ"
      },
      "source": [
        "## **Example**\n",
        "\n",
        "The clear() method empties the set:"
      ]
    },
    {
      "cell_type": "code",
      "execution_count": null,
      "metadata": {
        "colab": {
          "base_uri": "https://localhost:8080/",
          "height": 34
        },
        "id": "l9BpkX4kOLhY",
        "outputId": "a3c5d5c0-20be-4bbe-a278-52bf8207d939"
      },
      "outputs": [
        {
          "name": "stdout",
          "output_type": "stream",
          "text": [
            "set()\n"
          ]
        }
      ],
      "source": [
        "thisset = {\"apple\", \"banana\", \"cherry\"}\n",
        "\n",
        "thisset.clear()\n",
        "\n",
        "print(thisset) "
      ]
    },
    {
      "cell_type": "markdown",
      "metadata": {
        "id": "9qacdmOEP03M"
      },
      "source": [
        "**Example**\n",
        "\n",
        "The `del` keyword will delete the set completely:"
      ]
    },
    {
      "cell_type": "code",
      "execution_count": null,
      "metadata": {
        "colab": {
          "base_uri": "https://localhost:8080/",
          "height": 200
        },
        "id": "MhBJJhPxPwFe",
        "outputId": "7463d408-2481-4f41-b4f4-7f16dd91806e"
      },
      "outputs": [
        {
          "ename": "NameError",
          "evalue": "ignored",
          "output_type": "error",
          "traceback": [
            "\u001b[0;31m---------------------------------------------------------------------------\u001b[0m",
            "\u001b[0;31mNameError\u001b[0m                                 Traceback (most recent call last)",
            "\u001b[0;32m<ipython-input-97-2ea8698f7794>\u001b[0m in \u001b[0;36m<module>\u001b[0;34m()\u001b[0m\n\u001b[1;32m      3\u001b[0m \u001b[0;32mdel\u001b[0m \u001b[0mthisset\u001b[0m\u001b[0;34m\u001b[0m\u001b[0;34m\u001b[0m\u001b[0m\n\u001b[1;32m      4\u001b[0m \u001b[0;34m\u001b[0m\u001b[0m\n\u001b[0;32m----> 5\u001b[0;31m \u001b[0mprint\u001b[0m\u001b[0;34m(\u001b[0m\u001b[0mthisset\u001b[0m\u001b[0;34m)\u001b[0m\u001b[0;34m\u001b[0m\u001b[0;34m\u001b[0m\u001b[0m\n\u001b[0m",
            "\u001b[0;31mNameError\u001b[0m: name 'thisset' is not defined"
          ]
        }
      ],
      "source": [
        "thisset = {\"apple\", \"banana\", \"cherry\"}\n",
        "\n",
        "del thisset\n",
        "\n",
        "print(thisset) "
      ]
    },
    {
      "cell_type": "markdown",
      "metadata": {
        "id": "QmuMj5ZBP-38"
      },
      "source": [
        "## **Join Two Sets**\n",
        "\n",
        "There are several ways to join two or more sets in Python.\n",
        "\n",
        "You can use the `union()` method that returns a new set containing all items from both sets, or the `update()` method that inserts all the items from one set into another:"
      ]
    },
    {
      "cell_type": "markdown",
      "metadata": {
        "id": "1fAbO0rwQFFw"
      },
      "source": [
        "**Example**\n",
        "\n",
        "The `union()` method returns a new set with all items from both sets:"
      ]
    },
    {
      "cell_type": "code",
      "execution_count": null,
      "metadata": {
        "colab": {
          "base_uri": "https://localhost:8080/",
          "height": 34
        },
        "id": "BSWiU47GP5tu",
        "outputId": "9b0fdab8-ea0a-4786-c722-3bc42fe0bd02"
      },
      "outputs": [
        {
          "name": "stdout",
          "output_type": "stream",
          "text": [
            "{'c', 1, 2, 3, 'b', 'a'}\n"
          ]
        }
      ],
      "source": [
        "set1 = {\"a\", \"b\" , \"c\"}\n",
        "set2 = {1, 2, 3}\n",
        "\n",
        "set3 = set1.union(set2)\n",
        "print(set3)"
      ]
    },
    {
      "cell_type": "markdown",
      "metadata": {
        "id": "9P9dNJczQL-F"
      },
      "source": [
        "**Example**\n",
        "\n",
        "The `update()` method inserts the items in set2 into set1:"
      ]
    },
    {
      "cell_type": "code",
      "execution_count": null,
      "metadata": {
        "colab": {
          "base_uri": "https://localhost:8080/",
          "height": 34
        },
        "id": "kGhNDeSTQI_H",
        "outputId": "635b52d2-55ed-4f0b-d402-86ea03e77ca0"
      },
      "outputs": [
        {
          "name": "stdout",
          "output_type": "stream",
          "text": [
            "{'c', 1, 2, 3, 'b', 'a'}\n"
          ]
        }
      ],
      "source": [
        "set1 = {\"a\", \"b\" , \"c\"}\n",
        "set2 = {1, 2, 3}\n",
        "\n",
        "set1.update(set2)\n",
        "print(set1) "
      ]
    },
    {
      "cell_type": "markdown",
      "metadata": {
        "id": "iw9eT2lOYFbs"
      },
      "source": [
        "**Note**: Both `union() `and `update()` will exclude any duplicate items."
      ]
    },
    {
      "cell_type": "markdown",
      "metadata": {
        "id": "Qo4jSq-FYR-B"
      },
      "source": [
        "There are other methods that joins two sets and keeps ONLY the duplicates, or NEVER the duplicates, check the full list of set methods in the bottom of this page.\n",
        "\n",
        "## **The set() Constructor**\n",
        "\n",
        "It is also possible to use the `set()` constructor to make a set."
      ]
    },
    {
      "cell_type": "markdown",
      "metadata": {
        "id": "q3AHl-xVYef6"
      },
      "source": [
        "**Example**\n",
        "\n",
        "Using the `set()` constructor to make a set:"
      ]
    },
    {
      "cell_type": "code",
      "execution_count": null,
      "metadata": {
        "colab": {
          "base_uri": "https://localhost:8080/",
          "height": 34
        },
        "id": "dT1dVofeQP2h",
        "outputId": "5c969aa4-5f1d-4119-cddc-37f73b92020b"
      },
      "outputs": [
        {
          "name": "stdout",
          "output_type": "stream",
          "text": [
            "{'apple', 'banana', 'cherry'}\n"
          ]
        }
      ],
      "source": [
        "thisset = set((\"apple\", \"banana\", \"cherry\")) # note the double round-brackets\n",
        "print(thisset) "
      ]
    },
    {
      "cell_type": "markdown",
      "metadata": {
        "id": "-k45DxtmZ4zi"
      },
      "source": [
        "## **Set Methods**\n",
        "\n",
        "Python has a set of built-in methods that you can use on sets."
      ]
    },
    {
      "cell_type": "code",
      "execution_count": null,
      "metadata": {
        "id": "fRUk7idqYnhC"
      },
      "outputs": [],
      "source": [
        "Method \t                Description\n",
        "add()\t                  Adds an element to the set\n",
        "clear()\t                Removes all the elements from the set\n",
        "copy()\t                Returns a copy of the set\n",
        "difference()\t          Returns a set containing the difference between two or more sets\n",
        "difference_update()\t    Removes the items in this set that are also included in another, specified set\n",
        "discard()\t              Remove the specified item\n",
        "intersection()\t        Returns a set, that is the intersection of two other sets\n",
        "intersection_update()\t  Removes the items in this set that are not present in other, specified set(s)\n",
        "isdisjoint()\t          Returns whether two sets have a intersection or not\n",
        "issubset()\t            Returns whether another set contains this set or not\n",
        "issuperset()\t          Returns whether this set contains another set or not\n",
        "pop()\t                  Removes an element from the set\n",
        "remove()\t              Removes the specified element\n",
        "symmetric_difference()\tReturns a set with the symmetric differences of two sets\n",
        "symmetric_difference_update()\tinserts the symmetric differences from this set and another\n",
        "union()\t                Return a set containing the union of sets\n",
        "update()\t              Update the set with the union of this set and others"
      ]
    },
    {
      "cell_type": "markdown",
      "metadata": {
        "id": "RQXfQm5SaTYS"
      },
      "source": [
        "## **Dictionary**\n",
        "\n",
        "A dictionary is a collection which is unordered, changeable and indexed. In Python dictionaries are written with curly brackets, and they have keys and values.\n",
        "\n",
        "\n",
        "\n"
      ]
    },
    {
      "cell_type": "code",
      "execution_count": null,
      "metadata": {
        "colab": {
          "base_uri": "https://localhost:8080/",
          "height": 34
        },
        "id": "m-SJvwimaa9G",
        "outputId": "472eb0d9-3fe0-4f30-93bf-b70cc36e54ef"
      },
      "outputs": [
        {
          "name": "stdout",
          "output_type": "stream",
          "text": [
            "{'brand': 'Ford', 'model': 'Mustang', 'year': 1964}\n"
          ]
        }
      ],
      "source": [
        " thisdict =\t{\n",
        "  \"brand\": \"Ford\",\n",
        "  \"model\": \"Mustang\",\n",
        "  \"year\": 1964\n",
        "}\n",
        "print(thisdict)"
      ]
    },
    {
      "cell_type": "markdown",
      "metadata": {
        "id": "Gqbx3axBafHV"
      },
      "source": [
        "## **Accessing Items**\n",
        "\n",
        "You can access the items of a dictionary by referring to its key name, inside square brackets:"
      ]
    },
    {
      "cell_type": "code",
      "execution_count": null,
      "metadata": {
        "id": "spUSA_h0acl0"
      },
      "outputs": [],
      "source": [
        "x = thisdict[\"model\"]"
      ]
    },
    {
      "cell_type": "markdown",
      "metadata": {
        "id": "uk-oyZIMaoVL"
      },
      "source": [
        "There is also a method called `get()` that will give you the same result:"
      ]
    },
    {
      "cell_type": "code",
      "execution_count": null,
      "metadata": {
        "id": "H_hS1uT6ajDD"
      },
      "outputs": [],
      "source": [
        "x = thisdict.get(\"model\")"
      ]
    },
    {
      "cell_type": "markdown",
      "metadata": {
        "id": "oeTnPuxpbCF7"
      },
      "source": [
        "## **Change Values**\n",
        "\n",
        "You can change the value of a specific item by referring to its key name:"
      ]
    },
    {
      "cell_type": "code",
      "execution_count": null,
      "metadata": {
        "id": "VJoUZ1fharbA"
      },
      "outputs": [],
      "source": [
        "thisdict =\t{\n",
        "  \"brand\": \"Ford\",\n",
        "  \"model\": \"Mustang\",\n",
        "  \"year\": 1964\n",
        "}\n",
        "thisdict[\"year\"] = 2018"
      ]
    },
    {
      "cell_type": "markdown",
      "metadata": {
        "id": "YP7u4349bHCz"
      },
      "source": [
        "## **Loop Through a Dictionary**\n",
        "\n",
        "You can loop through a dictionary by using a for loop.\n",
        "\n",
        "When looping through a dictionary, the return value are the keys of the dictionary, but there are methods to return the values as well."
      ]
    },
    {
      "cell_type": "code",
      "execution_count": null,
      "metadata": {
        "colab": {
          "base_uri": "https://localhost:8080/",
          "height": 69
        },
        "id": "AQhYarKgbFX1",
        "outputId": "3dea8e38-60ee-4167-c619-4d7b67102a06"
      },
      "outputs": [
        {
          "name": "stdout",
          "output_type": "stream",
          "text": [
            "brand\n",
            "model\n",
            "year\n"
          ]
        }
      ],
      "source": [
        "for x in thisdict:\n",
        "  print(x) "
      ]
    },
    {
      "cell_type": "markdown",
      "metadata": {
        "id": "UE7pHlqmbNBk"
      },
      "source": [
        "**Example**\n",
        "\n",
        "Print all values in the dictionary, one by one:"
      ]
    },
    {
      "cell_type": "code",
      "execution_count": null,
      "metadata": {
        "colab": {
          "base_uri": "https://localhost:8080/",
          "height": 69
        },
        "id": "Ld7PnH9ibKwb",
        "outputId": "e4b9961f-3c0d-455f-82c4-a5c2bac2c125"
      },
      "outputs": [
        {
          "name": "stdout",
          "output_type": "stream",
          "text": [
            "Ford\n",
            "Mustang\n",
            "2018\n"
          ]
        }
      ],
      "source": [
        "for x in thisdict:\n",
        "  print(thisdict[x]) "
      ]
    },
    {
      "cell_type": "markdown",
      "metadata": {
        "id": "W6k82TlYbTy7"
      },
      "source": [
        "**Example**\n",
        "\n",
        "You can also use the `values()` function to return values of a dictionary:"
      ]
    },
    {
      "cell_type": "code",
      "execution_count": null,
      "metadata": {
        "colab": {
          "base_uri": "https://localhost:8080/",
          "height": 69
        },
        "id": "GtiCOBnzbPrN",
        "outputId": "db33ac22-e371-4c81-fc0e-bc12a3248942"
      },
      "outputs": [
        {
          "name": "stdout",
          "output_type": "stream",
          "text": [
            "Ford\n",
            "Mustang\n",
            "2018\n"
          ]
        }
      ],
      "source": [
        "for x in thisdict.values():\n",
        "  print(x) "
      ]
    },
    {
      "cell_type": "markdown",
      "metadata": {
        "id": "xJmTdDUNbu4X"
      },
      "source": [
        "Loop through both keys and values, by using the `items()` function:"
      ]
    },
    {
      "cell_type": "code",
      "execution_count": null,
      "metadata": {
        "colab": {
          "base_uri": "https://localhost:8080/",
          "height": 69
        },
        "id": "l61kV7TzbXwu",
        "outputId": "bb49a46b-d4cf-455e-a821-2824e5cda179"
      },
      "outputs": [
        {
          "name": "stdout",
          "output_type": "stream",
          "text": [
            "brand Ford\n",
            "model Mustang\n",
            "year 2018\n"
          ]
        }
      ],
      "source": [
        "for x, y in thisdict.items():\n",
        "  print(x, y) "
      ]
    },
    {
      "cell_type": "markdown",
      "metadata": {
        "id": "EV6aO82Ub4qZ"
      },
      "source": [
        "## **Check if Key Exists**\n",
        "\n",
        "To determine if a specified key is present in a dictionary use the in keyword:"
      ]
    },
    {
      "cell_type": "code",
      "execution_count": null,
      "metadata": {
        "colab": {
          "base_uri": "https://localhost:8080/",
          "height": 34
        },
        "id": "DthtQUJ_bzr9",
        "outputId": "f41adb5b-31c7-4b78-e4c5-64587c85428f"
      },
      "outputs": [
        {
          "name": "stdout",
          "output_type": "stream",
          "text": [
            "Yes, 'model' is one of the keys in the thisdict dictionary\n"
          ]
        }
      ],
      "source": [
        "thisdict =\t{\n",
        "  \"brand\": \"Ford\",\n",
        "  \"model\": \"Mustang\",\n",
        "  \"year\": 1964\n",
        "}\n",
        "if \"model\" in thisdict:\n",
        "  print(\"Yes, 'model' is one of the keys in the thisdict dictionary\") "
      ]
    },
    {
      "cell_type": "markdown",
      "metadata": {
        "id": "O_X-lZD1cGRb"
      },
      "source": [
        "## **Dictionary Length**\n",
        "\n",
        "To determine how many items (key-value pairs) a dictionary has, use the `len()` method."
      ]
    },
    {
      "cell_type": "code",
      "execution_count": null,
      "metadata": {
        "colab": {
          "base_uri": "https://localhost:8080/",
          "height": 34
        },
        "id": "Ee16qzxBcBW1",
        "outputId": "15334ccb-3fe3-4b05-f04a-6876cc11715b"
      },
      "outputs": [
        {
          "name": "stdout",
          "output_type": "stream",
          "text": [
            "3\n"
          ]
        }
      ],
      "source": [
        "print(len(thisdict)) "
      ]
    },
    {
      "cell_type": "markdown",
      "metadata": {
        "id": "Pbu1gvIsdht-"
      },
      "source": [
        "## **Adding Items**\n",
        "\n",
        "Adding an item to the dictionary is done by using a new index key and assigning a value to it:"
      ]
    },
    {
      "cell_type": "code",
      "execution_count": null,
      "metadata": {
        "colab": {
          "base_uri": "https://localhost:8080/",
          "height": 34
        },
        "id": "VJgO7R6UcMLX",
        "outputId": "95800ec2-9a8b-441a-e818-7b1601fc5e4f"
      },
      "outputs": [
        {
          "name": "stdout",
          "output_type": "stream",
          "text": [
            "{'brand': 'Ford', 'model': 'Mustang', 'year': 1964, 'color': 'red'}\n"
          ]
        }
      ],
      "source": [
        "thisdict =\t{\n",
        "  \"brand\": \"Ford\",\n",
        "  \"model\": \"Mustang\",\n",
        "  \"year\": 1964\n",
        "}\n",
        "thisdict[\"color\"] = \"red\"\n",
        "print(thisdict)"
      ]
    },
    {
      "cell_type": "markdown",
      "metadata": {
        "id": "K7xS-Yojdnpu"
      },
      "source": [
        "## **Removing Items**\n",
        "\n",
        "There are several methods to remove items from a dictionary:"
      ]
    },
    {
      "cell_type": "markdown",
      "metadata": {
        "id": "6Wmg178kdr6A"
      },
      "source": [
        "**Example**\n",
        "\n",
        "The `pop()` method removes the item with the specified key name:"
      ]
    },
    {
      "cell_type": "code",
      "execution_count": null,
      "metadata": {
        "colab": {
          "base_uri": "https://localhost:8080/",
          "height": 34
        },
        "id": "HkmDDmOOdlgB",
        "outputId": "2f18f9e6-3107-41eb-be3a-695d2bd31293"
      },
      "outputs": [
        {
          "name": "stdout",
          "output_type": "stream",
          "text": [
            "{'brand': 'Ford', 'year': 1964}\n"
          ]
        }
      ],
      "source": [
        "thisdict =\t{\n",
        "  \"brand\": \"Ford\",\n",
        "  \"model\": \"Mustang\",\n",
        "  \"year\": 1964\n",
        "}\n",
        "thisdict.pop(\"model\")\n",
        "print(thisdict) "
      ]
    },
    {
      "cell_type": "markdown",
      "metadata": {
        "id": "_p01zoiJdyTA"
      },
      "source": [
        "**Example**\n",
        "\n",
        "The `popitem()` method removes the last inserted item (in versions before 3.7, a random item is removed instead):"
      ]
    },
    {
      "cell_type": "code",
      "execution_count": null,
      "metadata": {
        "colab": {
          "base_uri": "https://localhost:8080/",
          "height": 34
        },
        "id": "7cjbk0eOdwGC",
        "outputId": "ae9cf098-7d43-4998-ac4c-32a096ec8b8e"
      },
      "outputs": [
        {
          "name": "stdout",
          "output_type": "stream",
          "text": [
            "{'brand': 'Ford', 'model': 'Mustang'}\n"
          ]
        }
      ],
      "source": [
        " thisdict =\t{\n",
        "  \"brand\": \"Ford\",\n",
        "  \"model\": \"Mustang\",\n",
        "  \"year\": 1964\n",
        "}\n",
        "thisdict.popitem()\n",
        "print(thisdict) "
      ]
    },
    {
      "cell_type": "markdown",
      "metadata": {
        "id": "Eefz3PV8eIZq"
      },
      "source": [
        "**Example**\n",
        "\n",
        "The `del` keyword removes the item with the specified key name:"
      ]
    },
    {
      "cell_type": "code",
      "execution_count": null,
      "metadata": {
        "colab": {
          "base_uri": "https://localhost:8080/",
          "height": 34
        },
        "id": "llhIdeZyd4dY",
        "outputId": "95834876-eff8-4f9f-e92f-d207f89af224"
      },
      "outputs": [
        {
          "name": "stdout",
          "output_type": "stream",
          "text": [
            "{'brand': 'Ford', 'year': 1964}\n"
          ]
        }
      ],
      "source": [
        " thisdict =\t{\n",
        "  \"brand\": \"Ford\",\n",
        "  \"model\": \"Mustang\",\n",
        "  \"year\": 1964\n",
        "}\n",
        "del thisdict[\"model\"]\n",
        "print(thisdict) "
      ]
    },
    {
      "cell_type": "markdown",
      "metadata": {
        "id": "LazqZG_XeO0X"
      },
      "source": [
        "**Example**\n",
        "\n",
        "The `clear()` keyword empties the dictionary:\n",
        "\n"
      ]
    },
    {
      "cell_type": "code",
      "execution_count": null,
      "metadata": {
        "colab": {
          "base_uri": "https://localhost:8080/",
          "height": 34
        },
        "id": "iuRbdcMSeMH6",
        "outputId": "de3baa24-1563-428c-92d7-9fbc8f6d678a"
      },
      "outputs": [
        {
          "name": "stdout",
          "output_type": "stream",
          "text": [
            "{}\n"
          ]
        }
      ],
      "source": [
        "thisdict =\t{\n",
        "  \"brand\": \"Ford\",\n",
        "  \"model\": \"Mustang\",\n",
        "  \"year\": 1964\n",
        "}\n",
        "thisdict.clear()\n",
        "print(thisdict) "
      ]
    },
    {
      "cell_type": "markdown",
      "metadata": {
        "id": "ESAp6896eV2M"
      },
      "source": [
        "## **Copy a Dictionary**\n",
        "\n",
        "You cannot copy a dictionary simply by typing `dict2` = `dict1`, because: `dict2` will only be a reference to dict1, and changes made in dict1 will automatically also be made in dict2.\n",
        "\n",
        "There are ways to make a copy, one way is to use the built-in Dictionary method `copy()`."
      ]
    },
    {
      "cell_type": "markdown",
      "metadata": {
        "id": "5Up6KeKFejtS"
      },
      "source": [
        "**Example**\n",
        "\n",
        "Make a copy of a dictionary with the `copy()` method:"
      ]
    },
    {
      "cell_type": "code",
      "execution_count": null,
      "metadata": {
        "colab": {
          "base_uri": "https://localhost:8080/",
          "height": 34
        },
        "id": "hxMV-yjweSwS",
        "outputId": "744bdbbe-8baa-42d0-8b14-b33b50dcd6cc"
      },
      "outputs": [
        {
          "name": "stdout",
          "output_type": "stream",
          "text": [
            "{'brand': 'Ford', 'model': 'Mustang', 'year': 1964}\n"
          ]
        }
      ],
      "source": [
        "thisdict =\t{\n",
        "  \"brand\": \"Ford\",\n",
        "  \"model\": \"Mustang\",\n",
        "  \"year\": 1964\n",
        "}\n",
        "mydict = thisdict.copy()\n",
        "print(mydict)"
      ]
    },
    {
      "cell_type": "markdown",
      "metadata": {
        "id": "dJS7THpEeqFg"
      },
      "source": [
        "Another way to make a copy is to use the built-in method `dict()`."
      ]
    },
    {
      "cell_type": "markdown",
      "metadata": {
        "id": "mIvZOH8TeukC"
      },
      "source": [
        "**Example**\n",
        "\n",
        "Make a copy of a dictionary with the `dict()` method:"
      ]
    },
    {
      "cell_type": "code",
      "execution_count": null,
      "metadata": {
        "colab": {
          "base_uri": "https://localhost:8080/",
          "height": 34
        },
        "id": "krOBioNMenTU",
        "outputId": "2ad0f491-3552-47a5-f1cf-df1f9dacb285"
      },
      "outputs": [
        {
          "name": "stdout",
          "output_type": "stream",
          "text": [
            "{'brand': 'Ford', 'model': 'Mustang', 'year': 1964}\n"
          ]
        }
      ],
      "source": [
        "thisdict =\t{\n",
        "  \"brand\": \"Ford\",\n",
        "  \"model\": \"Mustang\",\n",
        "  \"year\": 1964\n",
        "}\n",
        "mydict = dict(thisdict)\n",
        "print(mydict) "
      ]
    },
    {
      "cell_type": "markdown",
      "metadata": {
        "id": "zYQ6BXFHe459"
      },
      "source": [
        "## **Nested Dictionaries**\n",
        "\n",
        "A dictionary can also contain many dictionaries, this is called nested dictionaries.\n",
        "\n",
        "**Example**\n",
        "\n",
        "Create a dictionary that contain three dictionaries:"
      ]
    },
    {
      "cell_type": "code",
      "execution_count": null,
      "metadata": {
        "id": "5Z0gwmK-e0B4"
      },
      "outputs": [],
      "source": [
        "myfamily = {\n",
        "  \"child1\" : {\n",
        "    \"name\" : \"Emil\",\n",
        "    \"year\" : 2004\n",
        "  },\n",
        "  \"child2\" : {\n",
        "    \"name\" : \"Tobias\",\n",
        "    \"year\" : 2007\n",
        "  },\n",
        "  \"child3\" : {\n",
        "    \"name\" : \"Linus\",\n",
        "    \"year\" : 2011\n",
        "  }\n",
        "} "
      ]
    },
    {
      "cell_type": "code",
      "execution_count": null,
      "metadata": {
        "id": "FqHit7VVe9_L"
      },
      "outputs": [],
      "source": [
        "child1 = {\n",
        "  \"name\" : \"Emil\",\n",
        "  \"year\" : 2004\n",
        "}\n",
        "child2 = {\n",
        "  \"name\" : \"Tobias\",\n",
        "  \"year\" : 2007\n",
        "}\n",
        "child3 = {\n",
        "  \"name\" : \"Linus\",\n",
        "  \"year\" : 2011\n",
        "}\n",
        "\n",
        "myfamily = {\n",
        "  \"child1\" : child1,\n",
        "  \"child2\" : child2,\n",
        "  \"child3\" : child3\n",
        "} "
      ]
    },
    {
      "cell_type": "markdown",
      "metadata": {
        "id": "_4r1uky9fCPq"
      },
      "source": [
        "## **The dict() Constructor**\n",
        "\n",
        "It is also possible to use the `dict()` constructor to make a new dictionary:"
      ]
    },
    {
      "cell_type": "code",
      "execution_count": null,
      "metadata": {
        "colab": {
          "base_uri": "https://localhost:8080/",
          "height": 34
        },
        "id": "yKiQV8atfATw",
        "outputId": "ba481471-7e09-400c-b6cc-70d065efd623"
      },
      "outputs": [
        {
          "name": "stdout",
          "output_type": "stream",
          "text": [
            "{'brand': 'Ford', 'model': 'Mustang', 'year': 1964}\n"
          ]
        }
      ],
      "source": [
        "thisdict = dict(brand=\"Ford\", model=\"Mustang\", year=1964)\n",
        "# note that keywords are not string literals\n",
        "# note the use of equals rather than colon for the assignment\n",
        "print(thisdict)"
      ]
    },
    {
      "cell_type": "markdown",
      "metadata": {
        "id": "OHMa-cvyfMCB"
      },
      "source": [
        "## **Dictionary Methods**\n",
        "\n",
        "Python has a set of built-in methods that you can use on dictionaries."
      ]
    },
    {
      "cell_type": "code",
      "execution_count": null,
      "metadata": {
        "id": "kcHg9FzJfGN5"
      },
      "outputs": [],
      "source": [
        "Method \t        Description\n",
        "clear()\t        Removes all the elements from the dictionary\n",
        "copy()\t        Returns a copy of the dictionary\n",
        "fromkeys()\t    Returns a dictionary with the specified keys and values\n",
        "get()\t          Returns the value of the specified key\n",
        "items()\t        Returns a list containing a tuple for each key value pair\n",
        "keys()\t        Returns a list containing the dictionary's keys\n",
        "pop()\t          Removes the element with the specified key\n",
        "popitem()\t      Removes the last inserted key-value pair\n",
        "setdefault()\t  Returns the value of the specified key. If the key does not exist: insert the key, with the specified value\n",
        "update()\t      Updates the dictionary with the specified key-value pairs\n",
        "values()\t       Returns a list of all the values in the dictionary"
      ]
    },
    {
      "cell_type": "markdown",
      "metadata": {
        "id": "Itn4aAssfXiw"
      },
      "source": [
        "## **Python Conditions and If statements**\n",
        "\n",
        "Python supports the usual logical conditions from mathematics:\n",
        "\n",
        "  - Equals: a == b\n",
        "  - Not Equals: a != b\n",
        "  - Less than: a < b\n",
        "  - Less than or equal to: a <= b\n",
        "  - Greater than: a > b\n",
        "  - Greater than or equal to: a >= b\n",
        "\n",
        "These conditions can be used in several ways, most commonly in \"if statements\" and loops.\n",
        "\n",
        "An \"if statement\" is written by using the if keyword."
      ]
    },
    {
      "cell_type": "markdown",
      "metadata": {
        "id": "HSukk5vygE0X"
      },
      "source": [
        "**Example**\n",
        "\n",
        "If statement:"
      ]
    },
    {
      "cell_type": "code",
      "execution_count": null,
      "metadata": {
        "colab": {
          "base_uri": "https://localhost:8080/",
          "height": 34
        },
        "id": "FQQmrzV8gDVb",
        "outputId": "9336388a-728d-4be6-c3d6-8083db540ceb"
      },
      "outputs": [
        {
          "name": "stdout",
          "output_type": "stream",
          "text": [
            "b is greater than a\n"
          ]
        }
      ],
      "source": [
        "a = 33\n",
        "b = 200\n",
        "if b > a:\n",
        "  print(\"b is greater than a\")"
      ]
    },
    {
      "cell_type": "code",
      "execution_count": null,
      "metadata": {
        "colab": {
          "base_uri": "https://localhost:8080/",
          "height": 34
        },
        "id": "H0vgrHFnglvU",
        "outputId": "878542ae-45b7-477f-dae2-08ca9d186452"
      },
      "outputs": [
        {
          "name": "stdout",
          "output_type": "stream",
          "text": [
            "a and b are equal\n"
          ]
        }
      ],
      "source": [
        "a = 33\n",
        "b = 33\n",
        "if b > a:\n",
        "  print(\"b is greater than a\")\n",
        "elif a == b:\n",
        "  print(\"a and b are equal\")"
      ]
    },
    {
      "cell_type": "markdown",
      "metadata": {
        "id": "2x6Bok0vgvP0"
      },
      "source": [
        "In this example `a `is equal to `b`, so the first condition is not true,but the `elif` condition is true, so we print to screen that \"a and b are equal\"."
      ]
    },
    {
      "cell_type": "markdown",
      "metadata": {
        "id": "IRtQoChrg23x"
      },
      "source": [
        "## **Else**\n",
        "\n",
        "The `else` keyword catches anything which isn't caught by the preceding conditions."
      ]
    },
    {
      "cell_type": "code",
      "execution_count": null,
      "metadata": {
        "colab": {
          "base_uri": "https://localhost:8080/",
          "height": 34
        },
        "id": "Q3f-4BDPgHbp",
        "outputId": "6c9d5465-9aed-4622-fb99-61c734d6da62"
      },
      "outputs": [
        {
          "name": "stdout",
          "output_type": "stream",
          "text": [
            "a is greater than b\n"
          ]
        }
      ],
      "source": [
        "a = 200\n",
        "b = 33\n",
        "if b > a:\n",
        "  print(\"b is greater than a\")\n",
        "elif a == b:\n",
        "  print(\"a and b are equal\")\n",
        "else:\n",
        "  print(\"a is greater than b\")"
      ]
    },
    {
      "cell_type": "markdown",
      "metadata": {
        "id": "SvZ0DUgRhA00"
      },
      "source": [
        "In this example `a` is greater than` b`, so the first condition is not true, also the `elif` condition is not true, so we go to the `else `condition and print to screen that \"a is greater than b\".\n",
        "\n",
        "You can also have an `else` without the `elif`:"
      ]
    },
    {
      "cell_type": "code",
      "execution_count": null,
      "metadata": {
        "colab": {
          "base_uri": "https://localhost:8080/",
          "height": 34
        },
        "id": "rV0uJuKIg8F1",
        "outputId": "ea7dcdde-c071-4ad6-f5d5-8707f5e42c01"
      },
      "outputs": [
        {
          "name": "stdout",
          "output_type": "stream",
          "text": [
            "b is not greater than a\n"
          ]
        }
      ],
      "source": [
        "a = 200\n",
        "b = 33\n",
        "if b > a:\n",
        "  print(\"b is greater than a\")\n",
        "else:\n",
        "  print(\"b is not greater than a\")"
      ]
    },
    {
      "cell_type": "markdown",
      "metadata": {
        "id": "E4x9A713hPKU"
      },
      "source": [
        "## **Short Hand If**\n",
        "\n",
        "If you have only one statement to execute, you can put it on the same line as the if statement."
      ]
    },
    {
      "cell_type": "code",
      "execution_count": null,
      "metadata": {
        "colab": {
          "base_uri": "https://localhost:8080/",
          "height": 34
        },
        "id": "mUq3O6xnhMKA",
        "outputId": "512f8c9c-e8f7-4bf9-edab-73f7ca5aba15"
      },
      "outputs": [
        {
          "name": "stdout",
          "output_type": "stream",
          "text": [
            "a is greater than b\n"
          ]
        }
      ],
      "source": [
        "if a > b: print(\"a is greater than b\")"
      ]
    },
    {
      "cell_type": "markdown",
      "metadata": {
        "id": "5seHxk06hhOs"
      },
      "source": [
        "## **Short Hand If ... Else**\n",
        "\n",
        "If you have only one statement to execute, one for if, and one for else, you can put it all on the same line:"
      ]
    },
    {
      "cell_type": "code",
      "execution_count": null,
      "metadata": {
        "colab": {
          "base_uri": "https://localhost:8080/",
          "height": 34
        },
        "id": "Kvy_pazthfZq",
        "outputId": "bc829d41-8b1f-48a6-9c44-812de435230e"
      },
      "outputs": [
        {
          "name": "stdout",
          "output_type": "stream",
          "text": [
            "B\n"
          ]
        }
      ],
      "source": [
        "a = 2\n",
        "b = 330\n",
        "print(\"A\") if a > b else print(\"B\") "
      ]
    },
    {
      "cell_type": "markdown",
      "metadata": {
        "id": "wM4HgKjGho5H"
      },
      "source": [
        "**Example**\n",
        "\n",
        "One line if else statement, with 3 conditions:"
      ]
    },
    {
      "cell_type": "code",
      "execution_count": null,
      "metadata": {
        "colab": {
          "base_uri": "https://localhost:8080/",
          "height": 34
        },
        "id": "MF44BPkchk1E",
        "outputId": "927e11c3-6603-4828-9d4a-1a891cce4eab"
      },
      "outputs": [
        {
          "name": "stdout",
          "output_type": "stream",
          "text": [
            "=\n"
          ]
        }
      ],
      "source": [
        "a = 330\n",
        "b = 330\n",
        "print(\"A\") if a > b else print(\"=\") if a == b else print(\"B\") "
      ]
    },
    {
      "cell_type": "markdown",
      "metadata": {
        "id": "mUf5mbwpiAch"
      },
      "source": [
        "## **And**\n",
        "\n",
        "The `and` keyword is a logical operator, and is used to combine conditional statements:\n",
        "\n",
        "**Example**\n",
        "\n",
        "Test if `a` is greater than `b`, `AND` if `c` is greater than a:"
      ]
    },
    {
      "cell_type": "code",
      "execution_count": null,
      "metadata": {
        "colab": {
          "base_uri": "https://localhost:8080/",
          "height": 34
        },
        "id": "rZeghEP8hsMP",
        "outputId": "93709e9a-5726-41f1-ccc2-90bee735ff92"
      },
      "outputs": [
        {
          "name": "stdout",
          "output_type": "stream",
          "text": [
            "Both conditions are True\n"
          ]
        }
      ],
      "source": [
        "a = 200\n",
        "b = 33\n",
        "c = 500\n",
        "if a > b and c > a:\n",
        "  print(\"Both conditions are True\")"
      ]
    },
    {
      "cell_type": "markdown",
      "metadata": {
        "id": "Bv5JW8QziQ87"
      },
      "source": [
        "## **Or**\n",
        "\n",
        "The `or` keyword is a logical operator, and is used to combine conditional statements:\n",
        "\n",
        "**Example**\n",
        "\n",
        "Test if `a` is greater than` b`, OR if `a` is greater than `c`:"
      ]
    },
    {
      "cell_type": "code",
      "execution_count": null,
      "metadata": {
        "colab": {
          "base_uri": "https://localhost:8080/",
          "height": 34
        },
        "id": "JZD_F-pTiON3",
        "outputId": "0973af39-fd3c-47d8-b602-4aae3da46416"
      },
      "outputs": [
        {
          "name": "stdout",
          "output_type": "stream",
          "text": [
            "At least one of the conditions is True\n"
          ]
        }
      ],
      "source": [
        "a = 200\n",
        "b = 33\n",
        "c = 500\n",
        "if a > b or a > c:\n",
        "  print(\"At least one of the conditions is True\")"
      ]
    },
    {
      "cell_type": "markdown",
      "metadata": {
        "id": "p1G4eR4ZinZ1"
      },
      "source": [
        "## **Nested If**\n",
        "\n",
        "You can have `if` statements inside `if` statements, this is called nested `if` statements."
      ]
    },
    {
      "cell_type": "code",
      "execution_count": null,
      "metadata": {
        "colab": {
          "base_uri": "https://localhost:8080/",
          "height": 52
        },
        "id": "PbCEnqEKidGN",
        "outputId": "8045279d-7823-4554-8e7d-099cd956eaa0"
      },
      "outputs": [
        {
          "name": "stdout",
          "output_type": "stream",
          "text": [
            "Above ten,\n",
            "and also above 20!\n"
          ]
        }
      ],
      "source": [
        "x = 41\n",
        "\n",
        "if x > 10:\n",
        "  print(\"Above ten,\")\n",
        "  if x > 20:\n",
        "    print(\"and also above 20!\")\n",
        "  else:\n",
        "    print(\"but not above 20.\") "
      ]
    },
    {
      "cell_type": "markdown",
      "metadata": {
        "id": "dg5LX8pLixFr"
      },
      "source": [
        "## **The pass Statement**\n",
        "\n",
        "`if` statements cannot be empty, but if you for some reason have an `if` statement with no content, put in the `pass` statement to avoid getting an error."
      ]
    },
    {
      "cell_type": "code",
      "execution_count": null,
      "metadata": {
        "id": "LrcTEn7MiuIK"
      },
      "outputs": [],
      "source": [
        "a = 33\n",
        "b = 200\n",
        "\n",
        "if b > a:\n",
        "  pass"
      ]
    },
    {
      "cell_type": "markdown",
      "metadata": {
        "id": "71Bu-F7OjRJu"
      },
      "source": [
        "## **Python Loops**\n",
        "\n",
        "Python has two primitive loop commands:\n",
        "\n",
        "  - `while` loops\n",
        "  - `for` loops\n"
      ]
    },
    {
      "cell_type": "markdown",
      "metadata": {
        "id": "V7nLTV2_jfFS"
      },
      "source": [
        "## **The while Loop**\n",
        "\n",
        "With the `while` loop we can execute a set of statements as long as a condition is true."
      ]
    },
    {
      "cell_type": "code",
      "execution_count": null,
      "metadata": {
        "colab": {
          "base_uri": "https://localhost:8080/",
          "height": 104
        },
        "id": "dDIhztBQi4Hy",
        "outputId": "db1f944b-ce28-4963-d719-3b04bd4400a6"
      },
      "outputs": [
        {
          "name": "stdout",
          "output_type": "stream",
          "text": [
            "1\n",
            "2\n",
            "3\n",
            "4\n",
            "5\n"
          ]
        }
      ],
      "source": [
        "i = 1\n",
        "while i < 6:\n",
        "  print(i)\n",
        "  i += 1"
      ]
    },
    {
      "cell_type": "markdown",
      "metadata": {
        "id": "7JX7gGAujyf5"
      },
      "source": [
        "*Note: remember to increment i, or else the loop will continue forever.*"
      ]
    },
    {
      "cell_type": "markdown",
      "metadata": {
        "id": "P4IOOY1hj3Cp"
      },
      "source": [
        "The `while` loop requires relevant variables to be ready, in this example we need to define an indexing variable, `i`, which we set to 1."
      ]
    },
    {
      "cell_type": "markdown",
      "metadata": {
        "id": "mU-uztlNj842"
      },
      "source": [
        "## **The break Statement**\n",
        "\n",
        "With the break statement we can stop the loop even if the while condition is true:"
      ]
    },
    {
      "cell_type": "code",
      "execution_count": null,
      "metadata": {
        "colab": {
          "base_uri": "https://localhost:8080/",
          "height": 69
        },
        "id": "2HLkTub7jn0R",
        "outputId": "b86fc09d-c65e-4d92-ef38-7f1d0b2d2c91"
      },
      "outputs": [
        {
          "name": "stdout",
          "output_type": "stream",
          "text": [
            "1\n",
            "2\n",
            "3\n"
          ]
        }
      ],
      "source": [
        "i = 1\n",
        "while i < 6:\n",
        "  print(i)\n",
        "  if i == 3:\n",
        "    break\n",
        "  i += 1 "
      ]
    },
    {
      "cell_type": "markdown",
      "metadata": {
        "id": "tOaOVyLGkEyn"
      },
      "source": [
        "## **The continue Statement**\n",
        "\n",
        "With the `continue` statement we can stop the current iteration, and continue with the next:"
      ]
    },
    {
      "cell_type": "code",
      "execution_count": null,
      "metadata": {
        "colab": {
          "base_uri": "https://localhost:8080/",
          "height": 104
        },
        "id": "52N2Dc8bkCHu",
        "outputId": "1a8579da-8426-4f51-caf4-5df779f96908"
      },
      "outputs": [
        {
          "name": "stdout",
          "output_type": "stream",
          "text": [
            "1\n",
            "2\n",
            "4\n",
            "5\n",
            "6\n"
          ]
        }
      ],
      "source": [
        "i = 0\n",
        "while i < 6:\n",
        "  i += 1\n",
        "  if i == 3:\n",
        "    continue\n",
        "  print(i)"
      ]
    },
    {
      "cell_type": "markdown",
      "metadata": {
        "id": "fByLnrYUva-b"
      },
      "source": [
        "## **Python For Loops**\n",
        "\n",
        "A for loop is used for iterating over a sequence (that is either a list, a tuple, a dictionary, a set, or a string).\n",
        "\n",
        "This is less like the for keyword in other programming languages, and works more like an iterator method as found in other object-orientated programming languages.\n",
        "\n",
        "With the for loop we can execute a set of statements, once for each item in a list, tuple, set etc."
      ]
    },
    {
      "cell_type": "code",
      "execution_count": null,
      "metadata": {
        "colab": {
          "base_uri": "https://localhost:8080/",
          "height": 69
        },
        "id": "PCp2OmpUkI_D",
        "outputId": "1b39c4ce-6d90-4b7f-d546-19005115a98d"
      },
      "outputs": [
        {
          "name": "stdout",
          "output_type": "stream",
          "text": [
            "apple\n",
            "banana\n",
            "cherry\n"
          ]
        }
      ],
      "source": [
        "fruits = [\"apple\", \"banana\", \"cherry\"]\n",
        "for x in fruits:\n",
        "  print(x)"
      ]
    },
    {
      "cell_type": "markdown",
      "metadata": {
        "id": "mnwg_OznviGg"
      },
      "source": [
        "The `for` loop does not require an indexing variable to set beforehand.\n",
        "\n",
        "## **Looping Through a String**\n",
        "\n",
        "Even strings are iterable objects, they contain a sequence of characters"
      ]
    },
    {
      "cell_type": "code",
      "execution_count": null,
      "metadata": {
        "colab": {
          "base_uri": "https://localhost:8080/",
          "height": 121
        },
        "id": "hysRydyovgCt",
        "outputId": "242cfd8b-bd09-4c6d-cc82-191870162b69"
      },
      "outputs": [
        {
          "name": "stdout",
          "output_type": "stream",
          "text": [
            "b\n",
            "a\n",
            "n\n",
            "a\n",
            "n\n",
            "a\n"
          ]
        }
      ],
      "source": [
        "for x in \"banana\":\n",
        "  print(x)"
      ]
    },
    {
      "cell_type": "markdown",
      "metadata": {
        "id": "yYJ0syusvvdl"
      },
      "source": [
        "## **The break Statement**\n",
        "\n",
        "With the break statement we can stop the loop before it has looped through all the items:"
      ]
    },
    {
      "cell_type": "markdown",
      "metadata": {
        "id": "RiUMP97nv3kr"
      },
      "source": [
        "Exit the loop when x is \"banana\":"
      ]
    },
    {
      "cell_type": "code",
      "execution_count": null,
      "metadata": {
        "colab": {
          "base_uri": "https://localhost:8080/",
          "height": 52
        },
        "id": "nhfLVePBvodt",
        "outputId": "e3319179-888c-46ab-88a9-cc953a3a617d"
      },
      "outputs": [
        {
          "name": "stdout",
          "output_type": "stream",
          "text": [
            "apple\n",
            "banana\n"
          ]
        }
      ],
      "source": [
        "fruits = [\"apple\", \"banana\", \"cherry\"]\n",
        "for x in fruits:\n",
        "  print(x)\n",
        "  if x == \"banana\":\n",
        "    break"
      ]
    },
    {
      "cell_type": "markdown",
      "metadata": {
        "id": "mWes8KL2v_F6"
      },
      "source": [
        "## **Example**\n",
        "\n",
        "Exit the loop when x is \"banana\", but this time the break comes before the print:"
      ]
    },
    {
      "cell_type": "code",
      "execution_count": null,
      "metadata": {
        "colab": {
          "base_uri": "https://localhost:8080/",
          "height": 34
        },
        "id": "Y2jgZ-9vvp9U",
        "outputId": "b3352976-cd11-4f3c-fa41-ab28497d1bc7"
      },
      "outputs": [
        {
          "name": "stdout",
          "output_type": "stream",
          "text": [
            "apple\n"
          ]
        }
      ],
      "source": [
        "\n",
        "fruits = [\"apple\", \"banana\", \"cherry\"]\n",
        "for x in fruits:\n",
        "  if x == \"banana\":\n",
        "    break\n",
        "  print(x)"
      ]
    },
    {
      "cell_type": "markdown",
      "metadata": {
        "id": "AzpU5AdrwJJt"
      },
      "source": [
        "## **The continue Statement**\n",
        "\n",
        "With the continue statement we can stop the current iteration of the loop, and continue with the next:"
      ]
    },
    {
      "cell_type": "code",
      "execution_count": null,
      "metadata": {
        "colab": {
          "base_uri": "https://localhost:8080/",
          "height": 52
        },
        "id": "EfgrBFL7wGDZ",
        "outputId": "0b4fc038-8c6a-466d-af6d-f19c91933407"
      },
      "outputs": [
        {
          "name": "stdout",
          "output_type": "stream",
          "text": [
            "apple\n",
            "cherry\n"
          ]
        }
      ],
      "source": [
        "fruits = [\"apple\", \"banana\", \"cherry\"]\n",
        "for x in fruits:\n",
        "  if x == \"banana\":\n",
        "    continue\n",
        "  print(x)"
      ]
    },
    {
      "cell_type": "markdown",
      "metadata": {
        "id": "pClWYBwrwetD"
      },
      "source": [
        "## **Creating a Function**\n",
        "\n",
        "In Python a function is defined using the def keyword:"
      ]
    },
    {
      "cell_type": "code",
      "execution_count": null,
      "metadata": {
        "id": "-jefRnObwL4l"
      },
      "outputs": [],
      "source": [
        "def my_function():\n",
        "  print(\"Hello from a function\") "
      ]
    },
    {
      "cell_type": "markdown",
      "metadata": {
        "id": "_3-qTgOWwlnq"
      },
      "source": [
        "## **Calling a Function**\n",
        "\n",
        "To call a function, use the function name followed by parenthesis:"
      ]
    },
    {
      "cell_type": "code",
      "execution_count": null,
      "metadata": {
        "colab": {
          "base_uri": "https://localhost:8080/",
          "height": 34
        },
        "id": "gGtuhtnWwiHO",
        "outputId": "14601839-fbbf-4a2c-aa4c-db1e6a76882f"
      },
      "outputs": [
        {
          "name": "stdout",
          "output_type": "stream",
          "text": [
            "Hello from a function\n"
          ]
        }
      ],
      "source": [
        "def my_function():\n",
        "  print(\"Hello from a function\")\n",
        "\n",
        "my_function()"
      ]
    },
    {
      "cell_type": "markdown",
      "metadata": {
        "id": "Qf19GFqOwq0X"
      },
      "source": [
        "## **Parameters**\n",
        "\n",
        "Information can be passed to functions as parameter.\n",
        "\n",
        "Parameters are specified after the function name, inside the parentheses. You can add as many parameters as you want, just separate them with a comma.\n",
        "\n",
        "The following example has a function with one parameter (fname). When the function is called, we pass along a first name, which is used inside the function to print the full name: "
      ]
    },
    {
      "cell_type": "code",
      "execution_count": null,
      "metadata": {
        "colab": {
          "base_uri": "https://localhost:8080/",
          "height": 69
        },
        "id": "i5Krwh_-wooW",
        "outputId": "644e6bdb-b890-46d3-dc7a-79613e3ad17c"
      },
      "outputs": [
        {
          "name": "stdout",
          "output_type": "stream",
          "text": [
            "Emil Refsnes\n",
            "Tobias Refsnes\n",
            "Linus Refsnes\n"
          ]
        }
      ],
      "source": [
        "def my_function(fname):\n",
        "  print(fname + \" Refsnes\")\n",
        "\n",
        "my_function(\"Emil\")\n",
        "my_function(\"Tobias\")\n",
        "my_function(\"Linus\") "
      ]
    },
    {
      "cell_type": "markdown",
      "metadata": {
        "id": "vUmhufXiw2nE"
      },
      "source": [
        "## **Default Parameter Value**\n",
        "\n",
        "The following example shows how to use a default parameter value.\n",
        "\n",
        "If we call the function without parameter, it uses the default value:"
      ]
    },
    {
      "cell_type": "code",
      "execution_count": null,
      "metadata": {
        "colab": {
          "base_uri": "https://localhost:8080/",
          "height": 86
        },
        "id": "MhvGWLxFwvTT",
        "outputId": "86851c27-211e-4c45-91e2-356b68238e30"
      },
      "outputs": [
        {
          "name": "stdout",
          "output_type": "stream",
          "text": [
            "I am from Sweden\n",
            "I am from India\n",
            "I am from Norway\n",
            "I am from Brazil\n"
          ]
        }
      ],
      "source": [
        "def my_function(country = \"Norway\"):\n",
        "  print(\"I am from \" + country)\n",
        "\n",
        "my_function(\"Sweden\")\n",
        "my_function(\"India\")\n",
        "my_function()\n",
        "my_function(\"Brazil\") "
      ]
    },
    {
      "cell_type": "markdown",
      "metadata": {
        "id": "Mbc1jT4Sw9JN"
      },
      "source": [
        "## **Passing a List as a Parameter**\n",
        "\n",
        "You can send any data types of parameter to a function (string, number, list, dictionary etc.), and it will be treated as the same data type inside the function.\n",
        "\n",
        "E.g. if you send a List as a parameter, it will still be a List when it reaches the function:"
      ]
    },
    {
      "cell_type": "code",
      "execution_count": null,
      "metadata": {
        "colab": {
          "base_uri": "https://localhost:8080/",
          "height": 69
        },
        "id": "Mqd9kaVGw6Q9",
        "outputId": "dbaf893c-5dfc-45be-bf03-1fd4b071a274"
      },
      "outputs": [
        {
          "name": "stdout",
          "output_type": "stream",
          "text": [
            "apple\n",
            "banana\n",
            "cherry\n"
          ]
        }
      ],
      "source": [
        "def my_function(food):\n",
        "  for x in food:\n",
        "    print(x)\n",
        "\n",
        "fruits = [\"apple\", \"banana\", \"cherry\"]\n",
        "\n",
        "my_function(fruits)\n"
      ]
    },
    {
      "cell_type": "markdown",
      "metadata": {
        "id": "TuUIYO44xJZo"
      },
      "source": [
        "# **Return Values**\n",
        "\n",
        "To let a function return a value, use the return statement:"
      ]
    },
    {
      "cell_type": "code",
      "execution_count": null,
      "metadata": {
        "colab": {
          "base_uri": "https://localhost:8080/",
          "height": 69
        },
        "id": "Q93tcxv7xD9G",
        "outputId": "1223f26e-f69c-4b88-f309-9f199bb88567"
      },
      "outputs": [
        {
          "name": "stdout",
          "output_type": "stream",
          "text": [
            "15\n",
            "25\n",
            "45\n"
          ]
        }
      ],
      "source": [
        "def my_function(x):\n",
        "  return 5 * x\n",
        "\n",
        "print(my_function(3))\n",
        "print(my_function(5))\n",
        "print(my_function(9))"
      ]
    },
    {
      "cell_type": "markdown",
      "metadata": {
        "id": "4v_tS-zRxW2y"
      },
      "source": [
        "## **Keyword Arguments**\n",
        "\n",
        "You can also send arguments with the key = `value `syntax.\n",
        "\n",
        "This way the order of the arguments does not matter."
      ]
    },
    {
      "cell_type": "code",
      "execution_count": null,
      "metadata": {
        "colab": {
          "base_uri": "https://localhost:8080/",
          "height": 34
        },
        "id": "JBM3-KwrxNnC",
        "outputId": "7c30512d-7333-4d70-ac22-2bdab742c04b"
      },
      "outputs": [
        {
          "name": "stdout",
          "output_type": "stream",
          "text": [
            "The youngest child is Linus\n"
          ]
        }
      ],
      "source": [
        "def my_function(child3, child2, child1):\n",
        "  print(\"The youngest child is \" + child3)\n",
        "\n",
        "my_function(child1 = \"Emil\", child2 = \"Tobias\", child3 = \"Linus\")"
      ]
    },
    {
      "cell_type": "markdown",
      "metadata": {
        "id": "4x2nhUihxle0"
      },
      "source": [
        "## **Arbitrary Arguments**\n",
        "\n",
        "If you do not know how many arguments that will be passed into your function, add a * before the parameter name in the function definition.\n",
        "\n",
        "This way the function will receive a tuple of arguments, and can access the items accordingly:"
      ]
    },
    {
      "cell_type": "code",
      "execution_count": null,
      "metadata": {
        "colab": {
          "base_uri": "https://localhost:8080/",
          "height": 34
        },
        "id": "EoXSy1Q_xfAt",
        "outputId": "21021c71-23e5-414d-e37d-8a881831b021"
      },
      "outputs": [
        {
          "name": "stdout",
          "output_type": "stream",
          "text": [
            "The youngest child is Linus\n"
          ]
        }
      ],
      "source": [
        "def my_function(*kids):\n",
        "  print(\"The youngest child is \" + kids[2])\n",
        "\n",
        "my_function(\"Emil\", \"Tobias\", \"Linus\") "
      ]
    },
    {
      "cell_type": "markdown",
      "metadata": {
        "id": "GYV1iYmrxtQq"
      },
      "source": [
        "## **The pass Statement**\n",
        "\n",
        "`function` definitions cannot be empty, but if you for some reason have a `function` definition with no content, put in the pass statement to avoid getting an error."
      ]
    },
    {
      "cell_type": "code",
      "execution_count": null,
      "metadata": {
        "id": "i1wUVOG1xqw-"
      },
      "outputs": [],
      "source": [
        "def myfunction():\n",
        "  pass"
      ]
    },
    {
      "cell_type": "markdown",
      "metadata": {
        "id": "rVVBtdoMyAKm"
      },
      "source": [
        "## **Recursion**\n",
        "\n",
        "Python also accepts function recursion, which means a defined function can call itself.\n",
        "\n",
        "Recursion is a common mathematical and programming concept. It means that a function calls itself. This has the benefit of meaning that you can loop through data to reach a result.\n",
        "\n",
        "The developer should be very careful with recursion as it can be quite easy to slip into writing a function which never terminates, or one that uses excess amounts of memory or processor power. However, when written correctly recursion can be a very efficient and mathematically-elegant approach to programming.\n",
        "\n",
        "In this example, tri_recursion() is a function that we have defined to call itself (\"recurse\"). We use the k variable as the data, which decrements (-1) every time we recurse. The recursion ends when the condition is not greater than 0 (i.e. when it is 0).\n",
        "\n",
        "To a new developer it can take some time to work out how exactly this works, best way to find out is by testing and modifying it."
      ]
    },
    {
      "cell_type": "code",
      "execution_count": null,
      "metadata": {
        "colab": {
          "base_uri": "https://localhost:8080/",
          "height": 191
        },
        "id": "y6X6FcY-x2JV",
        "outputId": "7397b669-9f3a-4c5e-e158-bf93336344d7"
      },
      "outputs": [
        {
          "name": "stdout",
          "output_type": "stream",
          "text": [
            "\n",
            "\n",
            "Recursion Example Results\n",
            "1\n",
            "3\n",
            "6\n",
            "10\n",
            "15\n",
            "21\n"
          ]
        },
        {
          "data": {
            "text/plain": [
              "21"
            ]
          },
          "execution_count": 157,
          "metadata": {
            "tags": []
          },
          "output_type": "execute_result"
        }
      ],
      "source": [
        " def tri_recursion(k):\n",
        "  if(k>0):\n",
        "    result = k+tri_recursion(k-1)\n",
        "    print(result)\n",
        "  else:\n",
        "    result = 0\n",
        "  return result\n",
        "\n",
        "print(\"\\n\\nRecursion Example Results\")\n",
        "tri_recursion(6)"
      ]
    },
    {
      "cell_type": "markdown",
      "metadata": {
        "id": "onaK7RD8z9xm"
      },
      "source": [
        "## **Python Lambda**\n",
        "\n",
        "A lambda function is a small anonymous function.\n",
        "\n",
        "A lambda function can take any number of arguments, but can only have one expression."
      ]
    },
    {
      "cell_type": "markdown",
      "metadata": {
        "id": "Gl7kWVcL0E8y"
      },
      "source": [
        "## **Syntax**\n",
        "\n",
        "`lambda arguments : expression`\n",
        "\n",
        "The expression is executed and the result is returned:\n",
        "\n",
        "**Example**\n",
        "\n",
        "A lambda function that adds 10 to the number passed in as an argument, and print the result:"
      ]
    },
    {
      "cell_type": "code",
      "execution_count": null,
      "metadata": {
        "colab": {
          "base_uri": "https://localhost:8080/",
          "height": 34
        },
        "id": "i-26VPt2yD1g",
        "outputId": "6a71af42-d25b-4d94-df97-9368151e12db"
      },
      "outputs": [
        {
          "name": "stdout",
          "output_type": "stream",
          "text": [
            "15\n"
          ]
        }
      ],
      "source": [
        "x = lambda a : a + 10\n",
        "print(x(5))"
      ]
    },
    {
      "cell_type": "markdown",
      "metadata": {
        "id": "p9PmLkBh0fXl"
      },
      "source": [
        "## **Certo, mas qual a sintaxe para criar uma função lambda em Python?**\n",
        "\n",
        "Não tem nada muito complicado aqui. Para criar uma função lambda você deve utilizar a seguinte sintaxe:\n",
        "\n",
        "    lambda argumento_1, …aurgumento_n: expressão\n",
        "\n",
        "Vale notar que as funções lambda não utilizam a keyword return pois o retorno dentro de lambda é implícito.\n",
        "\n",
        "## **Mas para que servem essas funções lambda?**\n",
        "\n",
        "Funções lambda funcionam da mesma forma que funções convencionais e, em geral, a escolha de adotar ou não seu uso é exclusivamente baseada em estilo de código.\n",
        "\n",
        "Mas vamos supor que você tenha um dicionário de dados com a seguinte estrutura:"
      ]
    },
    {
      "cell_type": "code",
      "execution_count": null,
      "metadata": {
        "id": "BemKFJ550P5m"
      },
      "outputs": [],
      "source": [
        "users = [\n",
        "  {\n",
        "    \"id\": 1, \n",
        "    \"name\": \"Allan\", \n",
        "    \"age\": 27, \n",
        "    \"profile_picture\": \"http://…\", \n",
        "    \"city\": \"São Paulo\"\n",
        "  },\n",
        "  {\n",
        "    \"id\": 2, \n",
        "    \"name\": \"Julie\", \n",
        "    \"age\": 29, \n",
        "    \"profile_picture\": \"http://…\", \n",
        "    \"city\": \"Curitiba\"\n",
        "  },\n",
        "  {\n",
        "    \"id\": 3, \n",
        "    \"name\": \"Pedro\", \n",
        "    \"age\": 31, \n",
        "    \"profile_picture\": \"http://…\", \n",
        "    \"city\": \"Rio de Janeiro\"\n",
        "  }\n",
        "]"
      ]
    },
    {
      "cell_type": "markdown",
      "metadata": {
        "id": "JdOOkbrf08Wz"
      },
      "source": [
        "Você analisou tudo e viu que precisava fazer uma lista apenas com as pessoas que tem mais de **27 anos**.\n",
        "\n",
        "Um exemplo com funções convencionais utilizando **def**:"
      ]
    },
    {
      "cell_type": "code",
      "execution_count": null,
      "metadata": {
        "colab": {
          "base_uri": "https://localhost:8080/",
          "height": 191
        },
        "id": "L1lzccc_05vC",
        "outputId": "006f8f95-c0ed-4f36-b8ca-45d7bb9f107f"
      },
      "outputs": [
        {
          "data": {
            "text/plain": [
              "[{'age': 29,\n",
              "  'city': 'Curitiba',\n",
              "  'id': 2,\n",
              "  'name': 'Julie',\n",
              "  'profile_picture': 'http://…'},\n",
              " {'age': 31,\n",
              "  'city': 'Rio de Janeiro',\n",
              "  'id': 3,\n",
              "  'name': 'Pedro',\n",
              "  'profile_picture': 'http://…'}]"
            ]
          },
          "execution_count": 162,
          "metadata": {
            "tags": []
          },
          "output_type": "execute_result"
        }
      ],
      "source": [
        "def users_over_27(user):\n",
        "  return user[\"age\"] > 27\n",
        "  \n",
        "filtered_users = filter(users_over_27, users)\n",
        "\n",
        "list(filtered_users)"
      ]
    },
    {
      "cell_type": "markdown",
      "metadata": {
        "id": "xwQq1DYB1M-w"
      },
      "source": [
        "Tudo bem que não é nada complicado e não temos muitas linhas de código, mas podemos simplificar ainda mais esse trecho de código e fazer tudo em uma linha só, utilizando **lambda**."
      ]
    },
    {
      "cell_type": "code",
      "execution_count": null,
      "metadata": {
        "colab": {
          "base_uri": "https://localhost:8080/",
          "height": 191
        },
        "id": "t3-LmyyZ1Tr4",
        "outputId": "dd4be277-15d1-45a9-e9f2-233860d174a2"
      },
      "outputs": [
        {
          "data": {
            "text/plain": [
              "[{'age': 29,\n",
              "  'city': 'Curitiba',\n",
              "  'id': 2,\n",
              "  'name': 'Julie',\n",
              "  'profile_picture': 'http://…'},\n",
              " {'age': 31,\n",
              "  'city': 'Rio de Janeiro',\n",
              "  'id': 3,\n",
              "  'name': 'Pedro',\n",
              "  'profile_picture': 'http://…'}]"
            ]
          },
          "execution_count": 163,
          "metadata": {
            "tags": []
          },
          "output_type": "execute_result"
        }
      ],
      "source": [
        "filtered_users = filter(lambda user: user[\"age\"] > 27, users)\n",
        "\n",
        "list(filtered_users)"
      ]
    },
    {
      "cell_type": "markdown",
      "metadata": {
        "id": "JHSNRjsO24iq"
      },
      "source": [
        "Lambda functions can take any number of arguments:"
      ]
    },
    {
      "cell_type": "code",
      "execution_count": null,
      "metadata": {
        "colab": {
          "base_uri": "https://localhost:8080/",
          "height": 34
        },
        "id": "SQHQ34Kd1WI5",
        "outputId": "0c064dab-c2a8-41fb-e169-ef4216b4da59"
      },
      "outputs": [
        {
          "name": "stdout",
          "output_type": "stream",
          "text": [
            "30\n"
          ]
        }
      ],
      "source": [
        "x = lambda a, b : a * b\n",
        "print(x(5, 6)) "
      ]
    },
    {
      "cell_type": "markdown",
      "metadata": {
        "id": "pYruG5f73X-A"
      },
      "source": [
        "## **Example**\n",
        "\n",
        "A lambda function that sums argument a, b, and c and print the result:"
      ]
    },
    {
      "cell_type": "code",
      "execution_count": null,
      "metadata": {
        "colab": {
          "base_uri": "https://localhost:8080/",
          "height": 34
        },
        "id": "PLImNgyX3Uqf",
        "outputId": "57214d38-5b83-4833-d216-c0b1dfef4748"
      },
      "outputs": [
        {
          "name": "stdout",
          "output_type": "stream",
          "text": [
            "13\n"
          ]
        }
      ],
      "source": [
        "x = lambda a, b, c : a + b + c\n",
        "print(x(5, 6, 2)) "
      ]
    },
    {
      "cell_type": "markdown",
      "metadata": {
        "id": "FEABFw743jBC"
      },
      "source": [
        "## **Why Use Lambda Functions?**\n",
        "\n",
        "The power of lambda is better shown when you use them as an anonymous function inside another function.\n",
        "\n",
        "Say you have a function definition that takes one argument, and that argument will be multiplied with an unknown number:"
      ]
    },
    {
      "cell_type": "code",
      "execution_count": null,
      "metadata": {
        "id": "yU5ILQfE3eom"
      },
      "outputs": [],
      "source": [
        "def myfunc(n):\n",
        "  return lambda a : a * n "
      ]
    },
    {
      "cell_type": "markdown",
      "metadata": {
        "id": "Zanjr0oF3rJi"
      },
      "source": [
        "Use that function definition to make a function that always doubles the number you send in:"
      ]
    },
    {
      "cell_type": "code",
      "execution_count": null,
      "metadata": {
        "colab": {
          "base_uri": "https://localhost:8080/",
          "height": 34
        },
        "id": "pBDpVtJ33o6N",
        "outputId": "72111cd3-74f2-4831-d212-4f426e84960b"
      },
      "outputs": [
        {
          "name": "stdout",
          "output_type": "stream",
          "text": [
            "22\n"
          ]
        }
      ],
      "source": [
        "def myfunc(n):\n",
        "  return lambda a : a * n\n",
        "\n",
        "mydoubler = myfunc(2)\n",
        "\n",
        "print(mydoubler(11))"
      ]
    }
  ],
  "metadata": {
    "colab": {
      "name": "studiesw3s.ipynb",
      "provenance": []
    },
    "kernelspec": {
      "display_name": "Python 3.10.4 64-bit",
      "language": "python",
      "name": "python3"
    },
    "language_info": {
      "name": "python",
      "version": "3.10.4"
    },
    "vscode": {
      "interpreter": {
        "hash": "12480cdcd90530462070cc37fdd09a142cdb7fd9d3413e8d158a59fef27ac8fa"
      }
    }
  },
  "nbformat": 4,
  "nbformat_minor": 0
}
